{
 "cells": [
  {
   "cell_type": "code",
   "execution_count": 6,
   "id": "f70cbfa1",
   "metadata": {},
   "outputs": [],
   "source": [
    "import pandas as pd\n",
    "from pymongo import MongoClient\n",
    "\n",
    "client = MongoClient(os.environ.get(\"MONGO_CONNECTION_STRING\"))\n",
    "db = client[\"dragonfly\"]"
   ]
  },
  {
   "cell_type": "code",
   "execution_count": 73,
   "id": "f9e49842",
   "metadata": {},
   "outputs": [
    {
     "data": {
      "text/plain": [
       "['DD', 'TSLA', 'AMD', 'FB', 'MSFT', 'AMZN', 'ARE', 'ALL', 'AAPL', 'NVDA']"
      ]
     },
     "execution_count": 73,
     "metadata": {},
     "output_type": "execute_result"
    }
   ],
   "source": [
    "def get_top_entities():\n",
    "    entities = db.events.aggregate([\n",
    "        {\"$match\":{\"event.type\":\"opinion\"}},\n",
    "        {\n",
    "        \"$group\":{\n",
    "            \"_id\":\"$event.entity\", \"count\":{\"$sum\":1}\n",
    "        }\n",
    "    }])\n",
    "    df = pd.DataFrame(entities)\n",
    "    df = df.rename(columns={\"_id\":\"entity\"})\n",
    "    return list(df.sort_values(by=[\"count\"], ascending=False, ignore_index=True).head(10)[\"entity\"])\n",
    "get_top_entities()"
   ]
  },
  {
   "cell_type": "code",
   "execution_count": 47,
   "id": "8fef345b",
   "metadata": {},
   "outputs": [
    {
     "data": {
      "text/plain": [
       "Index([], dtype='object')"
      ]
     },
     "execution_count": 47,
     "metadata": {},
     "output_type": "execute_result"
    }
   ],
   "source": [
    "df.columns"
   ]
  },
  {
   "cell_type": "code",
   "execution_count": 68,
   "id": "980e726d",
   "metadata": {},
   "outputs": [
    {
     "data": {
      "text/plain": [
       "['DD', 'TSLA', 'AMD', 'FB', 'MSFT', 'AMZN', 'ARE', 'ALL', 'AAPL', 'NVDA']"
      ]
     },
     "execution_count": 68,
     "metadata": {},
     "output_type": "execute_result"
    }
   ],
   "source": [
    "df = pd.DataFrame(entities)\n",
    "df = df.rename(columns={\"_id\":\"entity\"})\n",
    "list(df.sort_values(by=[\"count\"], ascending=False, ignore_index=True).head(10)[\"entity\"])"
   ]
  },
  {
   "cell_type": "code",
   "execution_count": 64,
   "id": "52a8fa5a",
   "metadata": {},
   "outputs": [
    {
     "data": {
      "text/plain": [
       "{'2022-01-10': [0, 1, 0],\n",
       " '2022-01-11': [0, 7, 1],\n",
       " '2022-01-12': [5, 18, 1],\n",
       " '2022-01-04': [0, 1, 0],\n",
       " '2022-01-05': [0, 1, 0]}"
      ]
     },
     "execution_count": 64,
     "metadata": {},
     "output_type": "execute_result"
    }
   ],
   "source": [
    "entity = \"TSLA\"\n",
    "def altair_opinion_barplot(entity)\n",
    "    # get data from db\n",
    "    data = {}\n",
    "    to_idx={\"negative\":0,\"neutral\":1,\"positive\":2}\n",
    "    for event in db.events.find({\"event.entity\":entity,\"event.type\":\"opinion\"}):\n",
    "        str_date = str(event[\"timestamp\"])[:10]\n",
    "        if str_date not in data:\n",
    "            data[str_date] = [0,0,0]\n",
    "        data[str_date][to_idx[event[\"event\"][\"value\"]]] += 1\n",
    "    # to barchart format\n",
    "    df = []\n",
    "    for date in data.keys():\n",
    "        for i in range(3):\n",
    "            df.append({\n",
    "                \"date\":date,\n",
    "                \"opinion\":[\"negative\",\"neutral\",\"positive\"][i],\n",
    "                \"count\":data[date][i]\n",
    "            })\n",
    "    df = pd.DataFrame(df)\n",
    "    # return plot\n",
    "    return alt.Chart(df).mark_bar().encode(\n",
    "        y='date',\n",
    "        x='sum(count)',\n",
    "        color='opinion'\n",
    "    ).properties(\n",
    "        title='Opinion data for ' + entity\n",
    "    )\n"
   ]
  },
  {
   "cell_type": "code",
   "execution_count": 65,
   "id": "c99d2141",
   "metadata": {},
   "outputs": [],
   "source": [
    "df = []\n",
    "for date in data.keys():\n",
    "    for i in range(3):\n",
    "        df.append({\n",
    "            \"date\":date,\n",
    "            \"opinion\":[\"negative\",\"neutral\",\"positive\"][i],\n",
    "            \"count\":data[date][i]\n",
    "        })\n",
    "df = pd.DataFrame(df)"
   ]
  },
  {
   "cell_type": "code",
   "execution_count": 66,
   "id": "fc80aca1",
   "metadata": {},
   "outputs": [
    {
     "data": {
      "text/html": [
       "\n",
       "<div id=\"altair-viz-ebfd179f194b4f2789175f412d268537\"></div>\n",
       "<script type=\"text/javascript\">\n",
       "  var VEGA_DEBUG = (typeof VEGA_DEBUG == \"undefined\") ? {} : VEGA_DEBUG;\n",
       "  (function(spec, embedOpt){\n",
       "    let outputDiv = document.currentScript.previousElementSibling;\n",
       "    if (outputDiv.id !== \"altair-viz-ebfd179f194b4f2789175f412d268537\") {\n",
       "      outputDiv = document.getElementById(\"altair-viz-ebfd179f194b4f2789175f412d268537\");\n",
       "    }\n",
       "    const paths = {\n",
       "      \"vega\": \"https://cdn.jsdelivr.net/npm//vega@5?noext\",\n",
       "      \"vega-lib\": \"https://cdn.jsdelivr.net/npm//vega-lib?noext\",\n",
       "      \"vega-lite\": \"https://cdn.jsdelivr.net/npm//vega-lite@4.17.0?noext\",\n",
       "      \"vega-embed\": \"https://cdn.jsdelivr.net/npm//vega-embed@6?noext\",\n",
       "    };\n",
       "\n",
       "    function maybeLoadScript(lib, version) {\n",
       "      var key = `${lib.replace(\"-\", \"\")}_version`;\n",
       "      return (VEGA_DEBUG[key] == version) ?\n",
       "        Promise.resolve(paths[lib]) :\n",
       "        new Promise(function(resolve, reject) {\n",
       "          var s = document.createElement('script');\n",
       "          document.getElementsByTagName(\"head\")[0].appendChild(s);\n",
       "          s.async = true;\n",
       "          s.onload = () => {\n",
       "            VEGA_DEBUG[key] = version;\n",
       "            return resolve(paths[lib]);\n",
       "          };\n",
       "          s.onerror = () => reject(`Error loading script: ${paths[lib]}`);\n",
       "          s.src = paths[lib];\n",
       "        });\n",
       "    }\n",
       "\n",
       "    function showError(err) {\n",
       "      outputDiv.innerHTML = `<div class=\"error\" style=\"color:red;\">${err}</div>`;\n",
       "      throw err;\n",
       "    }\n",
       "\n",
       "    function displayChart(vegaEmbed) {\n",
       "      vegaEmbed(outputDiv, spec, embedOpt)\n",
       "        .catch(err => showError(`Javascript Error: ${err.message}<br>This usually means there's a typo in your chart specification. See the javascript console for the full traceback.`));\n",
       "    }\n",
       "\n",
       "    if(typeof define === \"function\" && define.amd) {\n",
       "      requirejs.config({paths});\n",
       "      require([\"vega-embed\"], displayChart, err => showError(`Error loading script: ${err.message}`));\n",
       "    } else {\n",
       "      maybeLoadScript(\"vega\", \"5\")\n",
       "        .then(() => maybeLoadScript(\"vega-lite\", \"4.17.0\"))\n",
       "        .then(() => maybeLoadScript(\"vega-embed\", \"6\"))\n",
       "        .catch(showError)\n",
       "        .then(() => displayChart(vegaEmbed));\n",
       "    }\n",
       "  })({\"config\": {\"view\": {\"continuousWidth\": 400, \"continuousHeight\": 300}}, \"data\": {\"name\": \"data-e6a6ebdebcc28ca7a764db2321128aba\"}, \"mark\": \"bar\", \"encoding\": {\"color\": {\"field\": \"opinion\", \"type\": \"nominal\"}, \"x\": {\"aggregate\": \"sum\", \"field\": \"count\", \"type\": \"quantitative\"}, \"y\": {\"field\": \"date\", \"type\": \"nominal\"}}, \"title\": \"Opinion data for TSLA\", \"$schema\": \"https://vega.github.io/schema/vega-lite/v4.17.0.json\", \"datasets\": {\"data-e6a6ebdebcc28ca7a764db2321128aba\": [{\"date\": \"2022-01-10\", \"opinion\": \"negative\", \"count\": 0}, {\"date\": \"2022-01-10\", \"opinion\": \"neutral\", \"count\": 1}, {\"date\": \"2022-01-10\", \"opinion\": \"positive\", \"count\": 0}, {\"date\": \"2022-01-11\", \"opinion\": \"negative\", \"count\": 0}, {\"date\": \"2022-01-11\", \"opinion\": \"neutral\", \"count\": 7}, {\"date\": \"2022-01-11\", \"opinion\": \"positive\", \"count\": 1}, {\"date\": \"2022-01-12\", \"opinion\": \"negative\", \"count\": 5}, {\"date\": \"2022-01-12\", \"opinion\": \"neutral\", \"count\": 18}, {\"date\": \"2022-01-12\", \"opinion\": \"positive\", \"count\": 1}, {\"date\": \"2022-01-04\", \"opinion\": \"negative\", \"count\": 0}, {\"date\": \"2022-01-04\", \"opinion\": \"neutral\", \"count\": 1}, {\"date\": \"2022-01-04\", \"opinion\": \"positive\", \"count\": 0}, {\"date\": \"2022-01-05\", \"opinion\": \"negative\", \"count\": 0}, {\"date\": \"2022-01-05\", \"opinion\": \"neutral\", \"count\": 1}, {\"date\": \"2022-01-05\", \"opinion\": \"positive\", \"count\": 0}]}}, {\"mode\": \"vega-lite\"});\n",
       "</script>"
      ],
      "text/plain": [
       "alt.Chart(...)"
      ]
     },
     "execution_count": 66,
     "metadata": {},
     "output_type": "execute_result"
    }
   ],
   "source": [
    "import altair as alt\n",
    "\n",
    "alt.Chart(df).mark_bar().encode(\n",
    "    y='date',\n",
    "    x='sum(count)',\n",
    "    color='opinion'\n",
    ").properties(\n",
    "    title='Opinion data for ' + entity\n",
    ")"
   ]
  },
  {
   "cell_type": "code",
   "execution_count": null,
   "id": "c920f098",
   "metadata": {},
   "outputs": [],
   "source": []
  }
 ],
 "metadata": {
  "kernelspec": {
   "display_name": "Python 3 (ipykernel)",
   "language": "python",
   "name": "python3"
  },
  "language_info": {
   "codemirror_mode": {
    "name": "ipython",
    "version": 3
   },
   "file_extension": ".py",
   "mimetype": "text/x-python",
   "name": "python",
   "nbconvert_exporter": "python",
   "pygments_lexer": "ipython3",
   "version": "3.9.7"
  }
 },
 "nbformat": 4,
 "nbformat_minor": 5
}
