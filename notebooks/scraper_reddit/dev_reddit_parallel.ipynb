{
 "cells": [
  {
   "cell_type": "code",
   "execution_count": 2,
   "metadata": {},
   "outputs": [
    {
     "data": {
      "text/plain": [
       "True"
      ]
     },
     "execution_count": 2,
     "metadata": {},
     "output_type": "execute_result"
    }
   ],
   "source": [
    "import os\n",
    "import re\n",
    "import praw\n",
    "import json\n",
    "\n",
    "from pydantic import BaseModel\n",
    "\n",
    "from dotenv import load_dotenv\n",
    "load_dotenv()"
   ]
  },
  {
   "cell_type": "code",
   "execution_count": 3,
   "metadata": {},
   "outputs": [],
   "source": [
    "class Text(BaseModel):\n",
    "    text: str\n",
    "    text_metadata: str"
   ]
  },
  {
   "cell_type": "code",
   "execution_count": 4,
   "metadata": {},
   "outputs": [],
   "source": [
    "reddit = praw.Reddit(\n",
    "    client_id=os.environ.get(\"REDDIT_APP_ID\"),\n",
    "    client_secret=os.environ.get(\"REDDIT_APP_SECRET\"),\n",
    "    user_agent=os.environ.get(\n",
    "        \"REDDIT_APP_NAME\") + ' by ' + os.environ.get(\"REDDIT_USERNAME\")\n",
    ")\n",
    "reddit_posts_limit = 3"
   ]
  },
  {
   "cell_type": "code",
   "execution_count": 6,
   "metadata": {},
   "outputs": [
    {
     "name": "stdout",
     "output_type": "stream",
     "text": [
      "Wait a second…I thought this was a shit post because you said that GameStop did 1 billion, 300 hundred million dollars in sales in 90 days. \n",
      "\n",
      "Turns out, that’s true.\n",
      "\n",
      "I legitimately didn’t know they were doing that well. That’s insane sales in my opinion.\n",
      "So hold. Got it.\n",
      "GME still gets baseless ridicule for being a \"dying\" brick-and-mortar retailer when that is so far from the case. It is transforming into a legitimate tech company. Just look at its job postings for proof. \n",
      "\n",
      "Forget about everything you know about the short squeeze. This company has a bright future led by a stellar management team. Invest in that.\n",
      "I'm impressed on revenue but the eps miss..... ouchies.\n",
      "Does it matter if you did $1.3 billion but lost money?\n",
      "It does because the money was spent on expanding the business.\n",
      "They also have a ton of cash on hand.\n",
      "Perhaps not so great given the losses per share were six times worse than expected...\n",
      ">expanding the business.\n",
      "Usually there is no commission on the spread. You’d have to check your broker how much it is per contract. It’s typical to see 5$ per round trip contract, plus exchange and regulatory fees which I see around .85\n",
      "Pretty fucking horrific EPS miss hahah. Watch out for insane levels of cope from apes\n",
      "So hold. Got it.\n",
      "Lol 🧢🧢🧢🧢🧢\n",
      "Well I have been holding all, and nclh since the \"big drop\" in 2020. I'm pretty happy with my returns.\n",
      "Accountants are number counters. Engineers are the ones take the numbers make things happen.\n",
      "We are made for analysis. woot woot\n"
     ]
    }
   ],
   "source": [
    "def process_post(post):\n",
    "    submission = reddit.submission(id=post.id)\n",
    "    submission.comments.replace_more(limit=0)\n",
    "    for comment in submission.comments.list():\n",
    "        yield Text(**{\n",
    "            \"text\": comment.body,\n",
    "            \"text_metadata\": json.dumps({\n",
    "                \"timestamp\": comment.created,\n",
    "                # \"parent_comment_id\": comment.parend_id,\n",
    "                \"comment_id\": comment.id,\n",
    "                \"post_id\": post.id\n",
    "            }, ensure_ascii=False)\n",
    "        })\n",
    "\n",
    "def process_subreddit(url):\n",
    "    subreddit_name = re.search(\"/r/([^/]+)\", url)[1]\n",
    "    # TODO: may not want to get new\n",
    "    posts = reddit.subreddit(subreddit_name).new(\n",
    "        limit=reddit_posts_limit)\n",
    "    # TODO: parallelize this\n",
    "    for post in posts:\n",
    "        for comment in process_post(post):\n",
    "            yield comment\n",
    "\n",
    "results = []\n",
    "for url in [\"https://www.reddit.com/r/stocks/new/\",\"https://www.reddit.com/r/StockMarket/new/\"]:\n",
    "    for text in process_subreddit(url):\n",
    "        results.append(text)\n",
    "        print(text.text)\n"
   ]
  },
  {
   "cell_type": "code",
   "execution_count": null,
   "metadata": {},
   "outputs": [
    {
     "data": {
      "text/plain": [
       "[]"
      ]
     },
     "execution_count": 23,
     "metadata": {},
     "output_type": "execute_result"
    }
   ],
   "source": [
    "results"
   ]
  }
 ],
 "metadata": {
  "interpreter": {
   "hash": "760516e913f116702f86b2319a2e0f4790a8bdc3308914caa652715c0f52d4d8"
  },
  "kernelspec": {
   "display_name": "Python 3.9.7 64-bit ('nlp-finance': conda)",
   "language": "python",
   "name": "python3"
  },
  "language_info": {
   "codemirror_mode": {
    "name": "ipython",
    "version": 3
   },
   "file_extension": ".py",
   "mimetype": "text/x-python",
   "name": "python",
   "nbconvert_exporter": "python",
   "pygments_lexer": "ipython3",
   "version": "3.9.7"
  },
  "orig_nbformat": 4
 },
 "nbformat": 4,
 "nbformat_minor": 2
}
