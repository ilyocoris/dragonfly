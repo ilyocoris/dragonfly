{
 "cells": [
  {
   "cell_type": "code",
   "execution_count": 1,
   "id": "2e63534b",
   "metadata": {},
   "outputs": [],
   "source": [
    "import os\n",
    "from pymongo import MongoClient\n"
   ]
  },
  {
   "cell_type": "code",
   "execution_count": 2,
   "id": "8722810d",
   "metadata": {},
   "outputs": [],
   "source": [
    "import datetime \n",
    "# timestamp from unix to \n",
    "ts = datetime.datetime.utcfromtimestamp(int(float(\"1641854884.0\")))"
   ]
  },
  {
   "cell_type": "code",
   "execution_count": 3,
   "id": "66a17691",
   "metadata": {},
   "outputs": [
    {
     "data": {
      "text/plain": [
       "datetime.datetime(2022, 1, 10, 22, 48, 4)"
      ]
     },
     "execution_count": 3,
     "metadata": {},
     "output_type": "execute_result"
    }
   ],
   "source": [
    "ts"
   ]
  },
  {
   "cell_type": "code",
   "execution_count": 6,
   "id": "e585903e",
   "metadata": {},
   "outputs": [
    {
     "data": {
      "text/plain": [
       "<pymongo.results.InsertOneResult at 0x7feea1232d80>"
      ]
     },
     "execution_count": 6,
     "metadata": {},
     "output_type": "execute_result"
    }
   ],
   "source": [
    "db[\"events\"].insert_one({\n",
    "    \"timestamp\": ts\n",
    "})"
   ]
  },
  {
   "cell_type": "code",
   "execution_count": 5,
   "id": "f70bab11",
   "metadata": {},
   "outputs": [],
   "source": [
    "client = MongoClient(\n",
    "    os.environ.get(\"MONGO_DRIVER\") + \"://\" + \n",
    "    os.environ.get(\"MONGO_USERNAME\") + \":\" + \n",
    "    os.environ.get(\"MONGO_PASSWORD\") + \"@\" +\n",
    "    os.environ.get(\"MONGO_HOST\") + \n",
    "    #\":\" + os.environ.get(\"MONGO_PORT\") +\n",
    "    \"/\" + os.environ.get(\"MONGO_DB_NAME\") +\n",
    "    \"?\" + os.environ.get(\"MONGO_CX_OPTIONS\")\n",
    ")\n",
    "db = client[\"dragonfly\"]"
   ]
  },
  {
   "cell_type": "code",
   "execution_count": 6,
   "id": "fdaf376a",
   "metadata": {},
   "outputs": [
    {
     "name": "stdout",
     "output_type": "stream",
     "text": [
      "ConsumerRecord(topic='results', partition=0, offset=0, timestamp=1641689359767, timestamp_type=0, key='61da310fccb0a1b5eeca72aa', value='{\"chunk_id\": \"61da310fccb0a1b5eeca72aa\", \"project_id\": \"000000000000000000000000\", \"text\": \"AB eats their lunch on the automation front. I\\\\u2019ve done both. Siemens is getting better and it\\\\u2019s starting to not matter as much as it did, but AB really has the tech support and integration piece figured out and have for a long time. The Encompass partnership program is helping AB stay ahead on the 3rd party integration as well. \\\\n\\\\nAs far as turbines go, GE makes a much better turbine than Siemens. The GE Mark VI DCS that comes with a F or H class turbine is inferior to Emerson Ovation.\", \"text_metadata\": \"{\\\\\"timestamp\\\\\": 1641683943.0, \\\\\"comment_id\\\\\": \\\\\"hru9bqh\\\\\", \\\\\"post_id\\\\\": \\\\\"rzcfdz\\\\\"}\", \"ner_results\": \"{\\\\\"GE\\\\\": {\\\\\"span\\\\\": [355, 357]}}\", \"sa_results\": \"{\\\\\"label\\\\\": \\\\\"positive\\\\\", \\\\\"score\\\\\": 0.9985002279281616}\"}', headers=[], checksum=None, serialized_key_size=24, serialized_value_size=894, serialized_header_size=-1)\n",
      "ConsumerRecord(topic='results', partition=0, offset=1, timestamp=1641689360057, timestamp_type=0, key='61da310fccb0a1b5eeca72ab', value='{\"chunk_id\": \"61da310fccb0a1b5eeca72ab\", \"project_id\": \"000000000000000000000000\", \"text\": \"There is much more in the automation business than just the PLCs that compete w Allen Bradley (though you are correct most engineers, esp American, would say AB much easier to work w).  The company is not getting valuation credit for the CAD/PLM, EDA and design software it has in the segment.  Mobility on its own would also trade for a greater multiple than the consolidated entity - esp given the backlog.  Mgmt was recently pushed to ipo a bit of Healthineers - stock immediately rerated from 12x to 16x EBITDA.  Despite this success, management does not want to break up the company, which is a mistake and a detriment to shareholders.  ROK is at a 100% prem on FCF, which is absurd.\", \"text_metadata\": \"{\\\\\"timestamp\\\\\": 1641687459.0, \\\\\"comment_id\\\\\": \\\\\"hruhu56\\\\\", \\\\\"post_id\\\\\": \\\\\"rzcfdz\\\\\"}\", \"ner_results\": \"{\\\\\"ROK\\\\\": {\\\\\"span\\\\\": [642, 645]}}\", \"sa_results\": \"{\\\\\"label\\\\\": \\\\\"neutral\\\\\", \\\\\"score\\\\\": 0.9880484342575073}\"}', headers=[], checksum=None, serialized_key_size=24, serialized_value_size=1077, serialized_header_size=-1)\n",
      "ConsumerRecord(topic='results', partition=0, offset=2, timestamp=1641689363575, timestamp_type=0, key='61da3113ccb0a1b5eeca72c4', value='{\"chunk_id\": \"61da3113ccb0a1b5eeca72c4\", \"project_id\": \"000000000000000000000000\", \"text\": \"That\\'s up to you.\\\\n\\\\nI have MSFT AAPL GOOGL NVDA UNH HD ASML CRWD SHW ODFL TMO NEE ...\\\\n\\\\nAbout 20 stocks and a few etfs.\", \"text_metadata\": \"{\\\\\"timestamp\\\\\": 1641686282.0, \\\\\"comment_id\\\\\": \\\\\"hruezlu\\\\\", \\\\\"post_id\\\\\": \\\\\"rzc4kx\\\\\"}\", \"ner_results\": \"{\\\\\"GOOGL\\\\\": {\\\\\"span\\\\\": [36, 41]}, \\\\\"AAPL\\\\\": {\\\\\"span\\\\\": [31, 35]}, \\\\\"HD\\\\\": {\\\\\"span\\\\\": [51, 53]}, \\\\\"MSFT\\\\\": {\\\\\"span\\\\\": [26, 30]}, \\\\\"NEE\\\\\": {\\\\\"span\\\\\": [77, 80]}, \\\\\"NVDA\\\\\": {\\\\\"span\\\\\": [42, 46]}, \\\\\"ODFL\\\\\": {\\\\\"span\\\\\": [68, 72]}, \\\\\"SHW\\\\\": {\\\\\"span\\\\\": [64, 67]}, \\\\\"TMO\\\\\": {\\\\\"span\\\\\": [73, 76]}, \\\\\"UNH\\\\\": {\\\\\"span\\\\\": [47, 50]}}\", \"sa_results\": \"{\\\\\"label\\\\\": \\\\\"neutral\\\\\", \\\\\"score\\\\\": 0.9998760223388672}\"}', headers=[], checksum=None, serialized_key_size=24, serialized_value_size=868, serialized_header_size=-1)\n",
      "ConsumerRecord(topic='results', partition=0, offset=3, timestamp=1641689363982, timestamp_type=0, key='61da3113ccb0a1b5eeca72c7', value='{\"chunk_id\": \"61da3113ccb0a1b5eeca72c7\", \"project_id\": \"000000000000000000000000\", \"text\": \"I try and keep 20% cash.  I think things are going down a lot more.\\\\n\\\\nThen I can buy MSFT NVDA and stuff cheaper.\", \"text_metadata\": \"{\\\\\"timestamp\\\\\": 1641686725.0, \\\\\"comment_id\\\\\": \\\\\"hrug1wt\\\\\", \\\\\"post_id\\\\\": \\\\\"rzc4kx\\\\\"}\", \"ner_results\": \"{\\\\\"MSFT\\\\\": {\\\\\"span\\\\\": [84, 88]}, \\\\\"NVDA\\\\\": {\\\\\"span\\\\\": [89, 93]}}\", \"sa_results\": \"{\\\\\"label\\\\\": \\\\\"negative\\\\\", \\\\\"score\\\\\": 0.983738362789154}\"}', headers=[], checksum=None, serialized_key_size=24, serialized_value_size=544, serialized_header_size=-1)\n",
      "ConsumerRecord(topic='results', partition=0, offset=4, timestamp=1641689372981, timestamp_type=0, key='61da311cccb0a1b5eeca72fa', value='{\"chunk_id\": \"61da311cccb0a1b5eeca72fa\", \"project_id\": \"000000000000000000000000\", \"text\": \"Absolutely horrible idea, i.e., you\\\\u2019re buying it at a 52 week high. \\\\n\\\\nMe? I would add to your NVDA equity. Why? Look at NVDA 3 month chart, it just broke through a support level. Actually, a double bottom. Consequently, I would add additional shares at this level or continuing weakness. Very few opportunities to buy a quality stock at this level. By the way, what is your existing cost basis for NVDA?\", \"text_metadata\": \"{\\\\\"timestamp\\\\\": 1641685230.0, \\\\\"comment_id\\\\\": \\\\\"hrucgdd\\\\\", \\\\\"post_id\\\\\": \\\\\"rzdc8s\\\\\"}\", \"ner_results\": \"{\\\\\"NVDA\\\\\": {\\\\\"span\\\\\": [94, 98]}}\", \"sa_results\": \"{\\\\\"label\\\\\": \\\\\"positive\\\\\", \\\\\"score\\\\\": 0.8930890560150146}\"}', headers=[], checksum=None, serialized_key_size=24, serialized_value_size=802, serialized_header_size=-1)\n",
      "ConsumerRecord(topic='results', partition=0, offset=5, timestamp=1641689376572, timestamp_type=0, key='61da3120ccb0a1b5eeca730d', value='{\"chunk_id\": \"61da3120ccb0a1b5eeca730d\", \"project_id\": \"000000000000000000000000\", \"text\": \"I could give 2 sh\\\\\\\\*ts. Coupled with buying at a 52 week high, the market is obviously set for retracement (see last week) or worse . . . a correction. \\\\n\\\\nConversely, you can buy more NVDA, which has been retracing for the last couple of weeks.\", \"text_metadata\": \"{\\\\\"timestamp\\\\\": 1641688303.0, \\\\\"comment_id\\\\\": \\\\\"hrujvhb\\\\\", \\\\\"post_id\\\\\": \\\\\"rzdc8s\\\\\"}\", \"ner_results\": \"{\\\\\"NVDA\\\\\": {\\\\\"span\\\\\": [182, 186]}}\", \"sa_results\": \"{\\\\\"label\\\\\": \\\\\"positive\\\\\", \\\\\"score\\\\\": 0.6553329229354858}\"}', headers=[], checksum=None, serialized_key_size=24, serialized_value_size=640, serialized_header_size=-1)\n",
      "ConsumerRecord(topic='results', partition=0, offset=6, timestamp=1641689381375, timestamp_type=0, key='61da3125ccb0a1b5eeca732e', value='{\"chunk_id\": \"61da3125ccb0a1b5eeca732e\", \"project_id\": \"000000000000000000000000\", \"text\": \"Instead of FB and AMD, consider Costco or Home Depot.\", \"text_metadata\": \"{\\\\\"timestamp\\\\\": 1641673491.0, \\\\\"comment_id\\\\\": \\\\\"hrtjobi\\\\\", \\\\\"post_id\\\\\": \\\\\"rz7oro\\\\\"}\", \"ner_results\": \"{\\\\\"AMD\\\\\": {\\\\\"span\\\\\": [18, 21]}, \\\\\"FB\\\\\": {\\\\\"span\\\\\": [11, 13]}}\", \"sa_results\": \"{\\\\\"label\\\\\": \\\\\"neutral\\\\\", \\\\\"score\\\\\": 0.9998651146888733}\"}', headers=[], checksum=None, serialized_key_size=24, serialized_value_size=478, serialized_header_size=-1)\n",
      "ConsumerRecord(topic='results', partition=0, offset=7, timestamp=1641689382126, timestamp_type=0, key='61da3126ccb0a1b5eeca7333', value='{\"chunk_id\": \"61da3126ccb0a1b5eeca7333\", \"project_id\": \"000000000000000000000000\", \"text\": \"I would keep FB and allocate Costco from AMD\", \"text_metadata\": \"{\\\\\"timestamp\\\\\": 1641673679.0, \\\\\"comment_id\\\\\": \\\\\"hrtk50e\\\\\", \\\\\"post_id\\\\\": \\\\\"rz7oro\\\\\"}\", \"ner_results\": \"{\\\\\"FB\\\\\": {\\\\\"span\\\\\": [13, 15]}}\", \"sa_results\": \"{\\\\\"label\\\\\": \\\\\"neutral\\\\\", \\\\\"score\\\\\": 0.9998717904090881}\"}', headers=[], checksum=None, serialized_key_size=24, serialized_value_size=430, serialized_header_size=-1)\n",
      "ConsumerRecord(topic='results', partition=0, offset=8, timestamp=1641689382596, timestamp_type=0, key='61da3126ccb0a1b5eeca7336', value='{\"chunk_id\": \"61da3126ccb0a1b5eeca7336\", \"project_id\": \"000000000000000000000000\", \"text\": \"Also you should trade less positions instead higher value per position. It doesn\\\\u2019t make much sense to have 250$ Nvidia and 250$ AMD Positions. If you want to have a good and easy to maintain strategy, maybe just buy 2-4 ETFs. 1 All World, 1 Tech, 1 Future Energy\\\\u2026\", \"text_metadata\": \"{\\\\\"timestamp\\\\\": 1641671419.0, \\\\\"comment_id\\\\\": \\\\\"hrtegsy\\\\\", \\\\\"post_id\\\\\": \\\\\"rz7oro\\\\\"}\", \"ner_results\": \"{\\\\\"AMD\\\\\": {\\\\\"span\\\\\": [128, 131]}}\", \"sa_results\": \"{\\\\\"label\\\\\": \\\\\"neutral\\\\\", \\\\\"score\\\\\": 0.9875566363334656}\"}', headers=[], checksum=None, serialized_key_size=24, serialized_value_size=664, serialized_header_size=-1)\n",
      "ConsumerRecord(topic='results', partition=0, offset=9, timestamp=1641689392159, timestamp_type=0, key='61da3130ccb0a1b5eeca7360', value='{\"chunk_id\": \"61da3130ccb0a1b5eeca7360\", \"project_id\": \"000000000000000000000000\", \"text\": \"You may do all that and see 20% loss in a single year because these are stocks. If you can\\\\u2019t be patient and accept stocks go down for periods of time, you will fail as a long term investor. AMZN has had multiple 20-30% drawdowns (decline from previous high) in the past 10 years, for example.\", \"text_metadata\": \"{\\\\\"timestamp\\\\\": 1641653947.0, \\\\\"comment_id\\\\\": \\\\\"hrs7215\\\\\", \\\\\"post_id\\\\\": \\\\\"ryvja0\\\\\"}\", \"ner_results\": \"{\\\\\"AMZN\\\\\": {\\\\\"span\\\\\": [190, 194]}}\", \"sa_results\": \"{\\\\\"label\\\\\": \\\\\"negative\\\\\", \\\\\"score\\\\\": 0.9980349540710449}\"}', headers=[], checksum=None, serialized_key_size=24, serialized_value_size=689, serialized_header_size=-1)\n",
      "ConsumerRecord(topic='results', partition=0, offset=10, timestamp=1641689402383, timestamp_type=0, key='61da313accb0a1b5eeca738a', value='{\"chunk_id\": \"61da313accb0a1b5eeca738a\", \"project_id\": \"000000000000000000000000\", \"text\": \"if you\\'re not being margin called and assuming you did some DD and actually like those companies, why sell for a loss?\", \"text_metadata\": \"{\\\\\"timestamp\\\\\": 1641672659.0, \\\\\"comment_id\\\\\": \\\\\"hrthkos\\\\\", \\\\\"post_id\\\\\": \\\\\"ryvja0\\\\\"}\", \"ner_results\": \"{\\\\\"DD\\\\\": {\\\\\"span\\\\\": [60, 62]}}\", \"sa_results\": \"{\\\\\"label\\\\\": \\\\\"negative\\\\\", \\\\\"score\\\\\": 0.9270761609077454}\"}', headers=[], checksum=None, serialized_key_size=24, serialized_value_size=505, serialized_header_size=-1)\n",
      "ConsumerRecord(topic='results', partition=0, offset=11, timestamp=1641689403812, timestamp_type=0, key='61da313bccb0a1b5eeca7394', value='{\"chunk_id\": \"61da313bccb0a1b5eeca7394\", \"project_id\": \"000000000000000000000000\", \"text\": \"MRO and ET have been huge winners last 18 months for me; I think too many are undervalued b/c of the transition time it\\\\u2019s really gonna take for EV to make a dent\\\\u2026: plus the Middle East and Russia are having natural gas fights \\\\ud83d\\\\ude0e\", \"text_metadata\": \"{\\\\\"timestamp\\\\\": 1641621903.0, \\\\\"comment_id\\\\\": \\\\\"hrqvime\\\\\", \\\\\"post_id\\\\\": \\\\\"ryoidl\\\\\"}\", \"ner_results\": \"{\\\\\"MRO\\\\\": {\\\\\"span\\\\\": [1, 3]}}\", \"sa_results\": \"{\\\\\"label\\\\\": \\\\\"positive\\\\\", \\\\\"score\\\\\": 0.999545156955719}\"}', headers=[], checksum=None, serialized_key_size=24, serialized_value_size=637, serialized_header_size=-1)\n",
      "ConsumerRecord(topic='results', partition=0, offset=12, timestamp=1641689410047, timestamp_type=0, key='61da3141ccb0a1b5eeca73ac', value='{\"chunk_id\": \"61da3141ccb0a1b5eeca73ac\", \"project_id\": \"000000000000000000000000\", \"text\": \"You\\'re making some common new investor mistakes.  GOOD has a price/earnings of over 2500.  Dump it.  VTI and JEPI are okay.  PFE is outstanding.  Never sell it.  MRK is okay, but you have PFE, a better stock, so you shouldn\\'t have a second healthcare stock, but should instead diversify, with either a financial, energy or technology stock, such as GS, CVX or AAPL.  O also has a high price/earnings, over 50, when REITS generally have PEs around 10.  It\\'s also not well rated by analysts.  Sell it.  A better REIT would be SPG.\", \"text_metadata\": \"{\\\\\"timestamp\\\\\": 1641608491.0, \\\\\"comment_id\\\\\": \\\\\"hrq4j2c\\\\\", \\\\\"post_id\\\\\": \\\\\"rylwcl\\\\\"}\", \"ner_results\": \"{\\\\\"AAPL\\\\\": {\\\\\"span\\\\\": [360, 364]}, \\\\\"CVX\\\\\": {\\\\\"span\\\\\": [353, 356]}, \\\\\"GS\\\\\": {\\\\\"span\\\\\": [349, 351]}, \\\\\"MRK\\\\\": {\\\\\"span\\\\\": [162, 165]}, \\\\\"PFE\\\\\": {\\\\\"span\\\\\": [125, 128]}, \\\\\"SPG\\\\\": {\\\\\"span\\\\\": [524, 527]}}\", \"sa_results\": \"{\\\\\"label\\\\\": \\\\\"negative\\\\\", \\\\\"score\\\\\": 0.954432487487793}\"}', headers=[], checksum=None, serialized_key_size=24, serialized_value_size=1122, serialized_header_size=-1)\n",
      "ConsumerRecord(topic='results', partition=0, offset=13, timestamp=1641689410818, timestamp_type=0, key='61da3142ccb0a1b5eeca73b2', value='{\"chunk_id\": \"61da3142ccb0a1b5eeca73b2\", \"project_id\": \"000000000000000000000000\", \"text\": \"AAPL stock is 41 years old.  It has the largest market cap.  U need AAPL\", \"text_metadata\": \"{\\\\\"timestamp\\\\\": 1641619339.0, \\\\\"comment_id\\\\\": \\\\\"hrqr1ga\\\\\", \\\\\"post_id\\\\\": \\\\\"rylwcl\\\\\"}\", \"ner_results\": \"{\\\\\"AAPL\\\\\": {\\\\\"span\\\\\": [1, 4]}}\", \"sa_results\": \"{\\\\\"label\\\\\": \\\\\"neutral\\\\\", \\\\\"score\\\\\": 0.9998826384544373}\"}', headers=[], checksum=None, serialized_key_size=24, serialized_value_size=458, serialized_header_size=-1)\n",
      "ConsumerRecord(topic='results', partition=0, offset=14, timestamp=1641689416846, timestamp_type=0, key='61da3148ccb0a1b5eeca73c2', value='{\"chunk_id\": \"61da3148ccb0a1b5eeca73c2\", \"project_id\": \"000000000000000000000000\", \"text\": \"Keep PFE , choose a bank in place of MRK, BAC, JPM or MS\", \"text_metadata\": \"{\\\\\"timestamp\\\\\": 1641655238.0, \\\\\"comment_id\\\\\": \\\\\"hrs9xya\\\\\", \\\\\"post_id\\\\\": \\\\\"rylwcl\\\\\"}\", \"ner_results\": \"{\\\\\"BAC\\\\\": {\\\\\"span\\\\\": [42, 45]}, \\\\\"JPM\\\\\": {\\\\\"span\\\\\": [47, 50]}, \\\\\"MRK\\\\\": {\\\\\"span\\\\\": [37, 40]}, \\\\\"PFE\\\\\": {\\\\\"span\\\\\": [5, 8]}}\", \"sa_results\": \"{\\\\\"label\\\\\": \\\\\"neutral\\\\\", \\\\\"score\\\\\": 0.9998865723609924}\"}', headers=[], checksum=None, serialized_key_size=24, serialized_value_size=558, serialized_header_size=-1)\n",
      "ConsumerRecord(topic='results', partition=0, offset=15, timestamp=1641689418140, timestamp_type=0, key='61da314accb0a1b5eeca73ca', value='{\"chunk_id\": \"61da314accb0a1b5eeca73ca\", \"project_id\": \"000000000000000000000000\", \"text\": \"I would add more to VTI over time with an automatic bi-weekly or monthly investment.  Dollar cost averaging is a useful strategy. If the market make a big pull back and you have the cash, do a Limit Order for more VTI\\\\n\\\\nYou are fairly diversified\\\\n\\\\nWhy MRK + PFE?\", \"text_metadata\": \"{\\\\\"timestamp\\\\\": 1641665928.0, \\\\\"comment_id\\\\\": \\\\\"hrt0gn9\\\\\", \\\\\"post_id\\\\\": \\\\\"rylwcl\\\\\"}\", \"ner_results\": \"{\\\\\"MRK\\\\\": {\\\\\"span\\\\\": [251, 254]}, \\\\\"PFE\\\\\": {\\\\\"span\\\\\": [257, 260]}}\", \"sa_results\": \"{\\\\\"label\\\\\": \\\\\"neutral\\\\\", \\\\\"score\\\\\": 0.9957942366600037}\"}', headers=[], checksum=None, serialized_key_size=24, serialized_value_size=699, serialized_header_size=-1)\n",
      "ConsumerRecord(topic='results', partition=0, offset=16, timestamp=1641689423605, timestamp_type=0, key='61da314fccb0a1b5eeca73df', value='{\"chunk_id\": \"61da314fccb0a1b5eeca73df\", \"project_id\": \"000000000000000000000000\", \"text\": \"Sell everything but VTI. Study general investing principles including portfolio construction and taxes. Then if you decide to invest into individual stocks, deeply study companies until you have a very deep understanding of how they operate. Then study the valuation of the company to where you know their valuation multiples by heart. \\\\n\\\\nIf you can\\\\u2019t resist individual stocks in the meantime, two I can blindly recommend are GOOG and AMZN to hold you over. Also most advice on Reddit I see is garbage so be careful. (I understand the irony of me then giving advice on Reddit)\", \"text_metadata\": \"{\\\\\"timestamp\\\\\": 1641610176.0, \\\\\"comment_id\\\\\": \\\\\"hrq8bka\\\\\", \\\\\"post_id\\\\\": \\\\\"rylwcl\\\\\"}\", \"ner_results\": \"{\\\\\"GOOG\\\\\": {\\\\\"span\\\\\": [425, 429]}, \\\\\"AMZN\\\\\": {\\\\\"span\\\\\": [434, 438]}}\", \"sa_results\": \"{\\\\\"label\\\\\": \\\\\"neutral\\\\\", \\\\\"score\\\\\": 0.9998577237129211}\"}', headers=[], checksum=None, serialized_key_size=24, serialized_value_size=1017, serialized_header_size=-1)\n",
      "ConsumerRecord(topic='results', partition=0, offset=17, timestamp=1641689424753, timestamp_type=0, key='61da3150ccb0a1b5eeca73e6', value='{\"chunk_id\": \"61da3150ccb0a1b5eeca73e6\", \"project_id\": \"000000000000000000000000\", \"text\": \"Buy more VTI. Also maybe buy some tech. (AAPL, MSFT, GOOG, AMZN)\", \"text_metadata\": \"{\\\\\"timestamp\\\\\": 1641615973.0, \\\\\"comment_id\\\\\": \\\\\"hrqknt9\\\\\", \\\\\"post_id\\\\\": \\\\\"rylwcl\\\\\"}\", \"ner_results\": \"{\\\\\"GOOG\\\\\": {\\\\\"span\\\\\": [53, 57]}, \\\\\"MSFT\\\\\": {\\\\\"span\\\\\": [47, 51]}}\", \"sa_results\": \"{\\\\\"label\\\\\": \\\\\"neutral\\\\\", \\\\\"score\\\\\": 0.9997431039810181}\"}', headers=[], checksum=None, serialized_key_size=24, serialized_value_size=492, serialized_header_size=-1)\n",
      "ConsumerRecord(topic='results', partition=0, offset=18, timestamp=1641689428585, timestamp_type=0, key='61da3154ccb0a1b5eeca73fe', value='{\"chunk_id\": \"61da3154ccb0a1b5eeca73fe\", \"project_id\": \"000000000000000000000000\", \"text\": \"I second ditching GOOD, the price has pretty much went sideways since going public, which was 19 years ago. The rest are decent, definitely go more into VTI and PFE.\", \"text_metadata\": \"{\\\\\"timestamp\\\\\": 1641643326.0, \\\\\"comment_id\\\\\": \\\\\"hrroa8d\\\\\", \\\\\"post_id\\\\\": \\\\\"rylwcl\\\\\"}\", \"ner_results\": \"{\\\\\"PFE\\\\\": {\\\\\"span\\\\\": [161, 164]}}\", \"sa_results\": \"{\\\\\"label\\\\\": \\\\\"positive\\\\\", \\\\\"score\\\\\": 0.9724434614181519}\"}', headers=[], checksum=None, serialized_key_size=24, serialized_value_size=555, serialized_header_size=-1)\n",
      "ConsumerRecord(topic='results', partition=0, offset=19, timestamp=1641689429183, timestamp_type=0, key='61da3155ccb0a1b5eeca7402', value='{\"chunk_id\": \"61da3155ccb0a1b5eeca7402\", \"project_id\": \"000000000000000000000000\", \"text\": \"AAPL 3x it\\\\u2019s market cap in the last 2 years from 1 to 3 trillion. Just because it\\\\u2019s the largest, doesn\\\\u2019t mean it\\\\u2019s the best\", \"text_metadata\": \"{\\\\\"timestamp\\\\\": 1641668678.0, \\\\\"comment_id\\\\\": \\\\\"hrt7h82\\\\\", \\\\\"post_id\\\\\": \\\\\"rylwcl\\\\\"}\", \"ner_results\": \"{\\\\\"AAPL\\\\\": {\\\\\"span\\\\\": [1, 4]}}\", \"sa_results\": \"{\\\\\"label\\\\\": \\\\\"neutral\\\\\", \\\\\"score\\\\\": 0.9833797216415405}\"}', headers=[], checksum=None, serialized_key_size=24, serialized_value_size=533, serialized_header_size=-1)\n",
      "ConsumerRecord(topic='results', partition=0, offset=20, timestamp=1641689433445, timestamp_type=0, key='61da3159ccb0a1b5eeca741d', value='{\"chunk_id\": \"61da3159ccb0a1b5eeca741d\", \"project_id\": \"000000000000000000000000\", \"text\": \"AAPL stock may not be the best, but at least it is growing.  \\\\n\\\\n[https://www.barchart.com/stocks/quotes/AAPL/performance](https://www.barchart.com/stocks/quotes/AAPL/performance)\\\\n\\\\nIf you know any stock investment has better return than AAPL in the past 20 years, please let me know.  NVDA is a great one too.\", \"text_metadata\": \"{\\\\\"timestamp\\\\\": 1641672202.0, \\\\\"comment_id\\\\\": \\\\\"hrtgfc5\\\\\", \\\\\"post_id\\\\\": \\\\\"rylwcl\\\\\"}\", \"ner_results\": \"{\\\\\"AAPL\\\\\": {\\\\\"span\\\\\": [235, 239]}, \\\\\"NVDA\\\\\": {\\\\\"span\\\\\": [283, 287]}}\", \"sa_results\": \"{\\\\\"label\\\\\": \\\\\"positive\\\\\", \\\\\"score\\\\\": 0.9922904968261719}\"}', headers=[], checksum=None, serialized_key_size=24, serialized_value_size=748, serialized_header_size=-1)\n"
     ]
    },
    {
     "ename": "KeyboardInterrupt",
     "evalue": "",
     "output_type": "error",
     "traceback": [
      "\u001b[0;31m---------------------------------------------------------------------------\u001b[0m",
      "\u001b[0;31mKeyboardInterrupt\u001b[0m                         Traceback (most recent call last)",
      "\u001b[0;32m/tmp/ipykernel_22/3429604198.py\u001b[0m in \u001b[0;36m<module>\u001b[0;34m\u001b[0m\n\u001b[1;32m      8\u001b[0m     \u001b[0mgroup_id_env\u001b[0m\u001b[0;34m=\u001b[0m\u001b[0;34m'CONSUMER_GROUP_CHUNKS'\u001b[0m\u001b[0;34m\u001b[0m\u001b[0;34m\u001b[0m\u001b[0m\n\u001b[1;32m      9\u001b[0m )\n\u001b[0;32m---> 10\u001b[0;31m \u001b[0;32mfor\u001b[0m \u001b[0mevent\u001b[0m \u001b[0;32min\u001b[0m \u001b[0mconsumer\u001b[0m\u001b[0;34m:\u001b[0m\u001b[0;34m\u001b[0m\u001b[0;34m\u001b[0m\u001b[0m\n\u001b[0m\u001b[1;32m     11\u001b[0m     \u001b[0mprint\u001b[0m\u001b[0;34m(\u001b[0m\u001b[0mevent\u001b[0m\u001b[0;34m)\u001b[0m\u001b[0;34m\u001b[0m\u001b[0;34m\u001b[0m\u001b[0m\n",
      "\u001b[0;32m/opt/conda/lib/python3.9/site-packages/kafka/consumer/group.py\u001b[0m in \u001b[0;36m__next__\u001b[0;34m(self)\u001b[0m\n\u001b[1;32m   1191\u001b[0m             \u001b[0;32mreturn\u001b[0m \u001b[0mself\u001b[0m\u001b[0;34m.\u001b[0m\u001b[0mnext_v1\u001b[0m\u001b[0;34m(\u001b[0m\u001b[0;34m)\u001b[0m\u001b[0;34m\u001b[0m\u001b[0;34m\u001b[0m\u001b[0m\n\u001b[1;32m   1192\u001b[0m         \u001b[0;32melse\u001b[0m\u001b[0;34m:\u001b[0m\u001b[0;34m\u001b[0m\u001b[0;34m\u001b[0m\u001b[0m\n\u001b[0;32m-> 1193\u001b[0;31m             \u001b[0;32mreturn\u001b[0m \u001b[0mself\u001b[0m\u001b[0;34m.\u001b[0m\u001b[0mnext_v2\u001b[0m\u001b[0;34m(\u001b[0m\u001b[0;34m)\u001b[0m\u001b[0;34m\u001b[0m\u001b[0;34m\u001b[0m\u001b[0m\n\u001b[0m\u001b[1;32m   1194\u001b[0m \u001b[0;34m\u001b[0m\u001b[0m\n\u001b[1;32m   1195\u001b[0m     \u001b[0;32mdef\u001b[0m \u001b[0mnext_v2\u001b[0m\u001b[0;34m(\u001b[0m\u001b[0mself\u001b[0m\u001b[0;34m)\u001b[0m\u001b[0;34m:\u001b[0m\u001b[0;34m\u001b[0m\u001b[0;34m\u001b[0m\u001b[0m\n",
      "\u001b[0;32m/opt/conda/lib/python3.9/site-packages/kafka/consumer/group.py\u001b[0m in \u001b[0;36mnext_v2\u001b[0;34m(self)\u001b[0m\n\u001b[1;32m   1199\u001b[0m                 \u001b[0mself\u001b[0m\u001b[0;34m.\u001b[0m\u001b[0m_iterator\u001b[0m \u001b[0;34m=\u001b[0m \u001b[0mself\u001b[0m\u001b[0;34m.\u001b[0m\u001b[0m_message_generator_v2\u001b[0m\u001b[0;34m(\u001b[0m\u001b[0;34m)\u001b[0m\u001b[0;34m\u001b[0m\u001b[0;34m\u001b[0m\u001b[0m\n\u001b[1;32m   1200\u001b[0m             \u001b[0;32mtry\u001b[0m\u001b[0;34m:\u001b[0m\u001b[0;34m\u001b[0m\u001b[0;34m\u001b[0m\u001b[0m\n\u001b[0;32m-> 1201\u001b[0;31m                 \u001b[0;32mreturn\u001b[0m \u001b[0mnext\u001b[0m\u001b[0;34m(\u001b[0m\u001b[0mself\u001b[0m\u001b[0;34m.\u001b[0m\u001b[0m_iterator\u001b[0m\u001b[0;34m)\u001b[0m\u001b[0;34m\u001b[0m\u001b[0;34m\u001b[0m\u001b[0m\n\u001b[0m\u001b[1;32m   1202\u001b[0m             \u001b[0;32mexcept\u001b[0m \u001b[0mStopIteration\u001b[0m\u001b[0;34m:\u001b[0m\u001b[0;34m\u001b[0m\u001b[0;34m\u001b[0m\u001b[0m\n\u001b[1;32m   1203\u001b[0m                 \u001b[0mself\u001b[0m\u001b[0;34m.\u001b[0m\u001b[0m_iterator\u001b[0m \u001b[0;34m=\u001b[0m \u001b[0;32mNone\u001b[0m\u001b[0;34m\u001b[0m\u001b[0;34m\u001b[0m\u001b[0m\n",
      "\u001b[0;32m/opt/conda/lib/python3.9/site-packages/kafka/consumer/group.py\u001b[0m in \u001b[0;36m_message_generator_v2\u001b[0;34m(self)\u001b[0m\n\u001b[1;32m   1114\u001b[0m     \u001b[0;32mdef\u001b[0m \u001b[0m_message_generator_v2\u001b[0m\u001b[0;34m(\u001b[0m\u001b[0mself\u001b[0m\u001b[0;34m)\u001b[0m\u001b[0;34m:\u001b[0m\u001b[0;34m\u001b[0m\u001b[0;34m\u001b[0m\u001b[0m\n\u001b[1;32m   1115\u001b[0m         \u001b[0mtimeout_ms\u001b[0m \u001b[0;34m=\u001b[0m \u001b[0;36m1000\u001b[0m \u001b[0;34m*\u001b[0m \u001b[0;34m(\u001b[0m\u001b[0mself\u001b[0m\u001b[0;34m.\u001b[0m\u001b[0m_consumer_timeout\u001b[0m \u001b[0;34m-\u001b[0m \u001b[0mtime\u001b[0m\u001b[0;34m.\u001b[0m\u001b[0mtime\u001b[0m\u001b[0;34m(\u001b[0m\u001b[0;34m)\u001b[0m\u001b[0;34m)\u001b[0m\u001b[0;34m\u001b[0m\u001b[0;34m\u001b[0m\u001b[0m\n\u001b[0;32m-> 1116\u001b[0;31m         \u001b[0mrecord_map\u001b[0m \u001b[0;34m=\u001b[0m \u001b[0mself\u001b[0m\u001b[0;34m.\u001b[0m\u001b[0mpoll\u001b[0m\u001b[0;34m(\u001b[0m\u001b[0mtimeout_ms\u001b[0m\u001b[0;34m=\u001b[0m\u001b[0mtimeout_ms\u001b[0m\u001b[0;34m,\u001b[0m \u001b[0mupdate_offsets\u001b[0m\u001b[0;34m=\u001b[0m\u001b[0;32mFalse\u001b[0m\u001b[0;34m)\u001b[0m\u001b[0;34m\u001b[0m\u001b[0;34m\u001b[0m\u001b[0m\n\u001b[0m\u001b[1;32m   1117\u001b[0m         \u001b[0;32mfor\u001b[0m \u001b[0mtp\u001b[0m\u001b[0;34m,\u001b[0m \u001b[0mrecords\u001b[0m \u001b[0;32min\u001b[0m \u001b[0msix\u001b[0m\u001b[0;34m.\u001b[0m\u001b[0miteritems\u001b[0m\u001b[0;34m(\u001b[0m\u001b[0mrecord_map\u001b[0m\u001b[0;34m)\u001b[0m\u001b[0;34m:\u001b[0m\u001b[0;34m\u001b[0m\u001b[0;34m\u001b[0m\u001b[0m\n\u001b[1;32m   1118\u001b[0m             \u001b[0;31m# Generators are stateful, and it is possible that the tp / records\u001b[0m\u001b[0;34m\u001b[0m\u001b[0;34m\u001b[0m\u001b[0m\n",
      "\u001b[0;32m/opt/conda/lib/python3.9/site-packages/kafka/consumer/group.py\u001b[0m in \u001b[0;36mpoll\u001b[0;34m(self, timeout_ms, max_records, update_offsets)\u001b[0m\n\u001b[1;32m    653\u001b[0m         \u001b[0mremaining\u001b[0m \u001b[0;34m=\u001b[0m \u001b[0mtimeout_ms\u001b[0m\u001b[0;34m\u001b[0m\u001b[0;34m\u001b[0m\u001b[0m\n\u001b[1;32m    654\u001b[0m         \u001b[0;32mwhile\u001b[0m \u001b[0;32mTrue\u001b[0m\u001b[0;34m:\u001b[0m\u001b[0;34m\u001b[0m\u001b[0;34m\u001b[0m\u001b[0m\n\u001b[0;32m--> 655\u001b[0;31m             \u001b[0mrecords\u001b[0m \u001b[0;34m=\u001b[0m \u001b[0mself\u001b[0m\u001b[0;34m.\u001b[0m\u001b[0m_poll_once\u001b[0m\u001b[0;34m(\u001b[0m\u001b[0mremaining\u001b[0m\u001b[0;34m,\u001b[0m \u001b[0mmax_records\u001b[0m\u001b[0;34m,\u001b[0m \u001b[0mupdate_offsets\u001b[0m\u001b[0;34m=\u001b[0m\u001b[0mupdate_offsets\u001b[0m\u001b[0;34m)\u001b[0m\u001b[0;34m\u001b[0m\u001b[0;34m\u001b[0m\u001b[0m\n\u001b[0m\u001b[1;32m    656\u001b[0m             \u001b[0;32mif\u001b[0m \u001b[0mrecords\u001b[0m\u001b[0;34m:\u001b[0m\u001b[0;34m\u001b[0m\u001b[0;34m\u001b[0m\u001b[0m\n\u001b[1;32m    657\u001b[0m                 \u001b[0;32mreturn\u001b[0m \u001b[0mrecords\u001b[0m\u001b[0;34m\u001b[0m\u001b[0;34m\u001b[0m\u001b[0m\n",
      "\u001b[0;32m/opt/conda/lib/python3.9/site-packages/kafka/consumer/group.py\u001b[0m in \u001b[0;36m_poll_once\u001b[0;34m(self, timeout_ms, max_records, update_offsets)\u001b[0m\n\u001b[1;32m    700\u001b[0m \u001b[0;34m\u001b[0m\u001b[0m\n\u001b[1;32m    701\u001b[0m         \u001b[0mtimeout_ms\u001b[0m \u001b[0;34m=\u001b[0m \u001b[0mmin\u001b[0m\u001b[0;34m(\u001b[0m\u001b[0mtimeout_ms\u001b[0m\u001b[0;34m,\u001b[0m \u001b[0mself\u001b[0m\u001b[0;34m.\u001b[0m\u001b[0m_coordinator\u001b[0m\u001b[0;34m.\u001b[0m\u001b[0mtime_to_next_poll\u001b[0m\u001b[0;34m(\u001b[0m\u001b[0;34m)\u001b[0m \u001b[0;34m*\u001b[0m \u001b[0;36m1000\u001b[0m\u001b[0;34m)\u001b[0m\u001b[0;34m\u001b[0m\u001b[0;34m\u001b[0m\u001b[0m\n\u001b[0;32m--> 702\u001b[0;31m         \u001b[0mself\u001b[0m\u001b[0;34m.\u001b[0m\u001b[0m_client\u001b[0m\u001b[0;34m.\u001b[0m\u001b[0mpoll\u001b[0m\u001b[0;34m(\u001b[0m\u001b[0mtimeout_ms\u001b[0m\u001b[0;34m=\u001b[0m\u001b[0mtimeout_ms\u001b[0m\u001b[0;34m)\u001b[0m\u001b[0;34m\u001b[0m\u001b[0;34m\u001b[0m\u001b[0m\n\u001b[0m\u001b[1;32m    703\u001b[0m         \u001b[0;31m# after the long poll, we should check whether the group needs to rebalance\u001b[0m\u001b[0;34m\u001b[0m\u001b[0;34m\u001b[0m\u001b[0m\n\u001b[1;32m    704\u001b[0m         \u001b[0;31m# prior to returning data so that the group can stabilize faster\u001b[0m\u001b[0;34m\u001b[0m\u001b[0;34m\u001b[0m\u001b[0m\n",
      "\u001b[0;32m/opt/conda/lib/python3.9/site-packages/kafka/client_async.py\u001b[0m in \u001b[0;36mpoll\u001b[0;34m(self, timeout_ms, future)\u001b[0m\n\u001b[1;32m    600\u001b[0m                     \u001b[0mtimeout\u001b[0m \u001b[0;34m=\u001b[0m \u001b[0mmax\u001b[0m\u001b[0;34m(\u001b[0m\u001b[0;36m0\u001b[0m\u001b[0;34m,\u001b[0m \u001b[0mtimeout\u001b[0m\u001b[0;34m)\u001b[0m  \u001b[0;31m# avoid negative timeouts\u001b[0m\u001b[0;34m\u001b[0m\u001b[0;34m\u001b[0m\u001b[0m\n\u001b[1;32m    601\u001b[0m \u001b[0;34m\u001b[0m\u001b[0m\n\u001b[0;32m--> 602\u001b[0;31m                 \u001b[0mself\u001b[0m\u001b[0;34m.\u001b[0m\u001b[0m_poll\u001b[0m\u001b[0;34m(\u001b[0m\u001b[0mtimeout\u001b[0m \u001b[0;34m/\u001b[0m \u001b[0;36m1000\u001b[0m\u001b[0;34m)\u001b[0m\u001b[0;34m\u001b[0m\u001b[0;34m\u001b[0m\u001b[0m\n\u001b[0m\u001b[1;32m    603\u001b[0m \u001b[0;34m\u001b[0m\u001b[0m\n\u001b[1;32m    604\u001b[0m             \u001b[0;31m# called without the lock to avoid deadlock potential\u001b[0m\u001b[0;34m\u001b[0m\u001b[0;34m\u001b[0m\u001b[0m\n",
      "\u001b[0;32m/opt/conda/lib/python3.9/site-packages/kafka/client_async.py\u001b[0m in \u001b[0;36m_poll\u001b[0;34m(self, timeout)\u001b[0m\n\u001b[1;32m    632\u001b[0m \u001b[0;34m\u001b[0m\u001b[0m\n\u001b[1;32m    633\u001b[0m         \u001b[0mstart_select\u001b[0m \u001b[0;34m=\u001b[0m \u001b[0mtime\u001b[0m\u001b[0;34m.\u001b[0m\u001b[0mtime\u001b[0m\u001b[0;34m(\u001b[0m\u001b[0;34m)\u001b[0m\u001b[0;34m\u001b[0m\u001b[0;34m\u001b[0m\u001b[0m\n\u001b[0;32m--> 634\u001b[0;31m         \u001b[0mready\u001b[0m \u001b[0;34m=\u001b[0m \u001b[0mself\u001b[0m\u001b[0;34m.\u001b[0m\u001b[0m_selector\u001b[0m\u001b[0;34m.\u001b[0m\u001b[0mselect\u001b[0m\u001b[0;34m(\u001b[0m\u001b[0mtimeout\u001b[0m\u001b[0;34m)\u001b[0m\u001b[0;34m\u001b[0m\u001b[0;34m\u001b[0m\u001b[0m\n\u001b[0m\u001b[1;32m    635\u001b[0m         \u001b[0mend_select\u001b[0m \u001b[0;34m=\u001b[0m \u001b[0mtime\u001b[0m\u001b[0;34m.\u001b[0m\u001b[0mtime\u001b[0m\u001b[0;34m(\u001b[0m\u001b[0;34m)\u001b[0m\u001b[0;34m\u001b[0m\u001b[0;34m\u001b[0m\u001b[0m\n\u001b[1;32m    636\u001b[0m         \u001b[0;32mif\u001b[0m \u001b[0mself\u001b[0m\u001b[0;34m.\u001b[0m\u001b[0m_sensors\u001b[0m\u001b[0;34m:\u001b[0m\u001b[0;34m\u001b[0m\u001b[0;34m\u001b[0m\u001b[0m\n",
      "\u001b[0;32m/opt/conda/lib/python3.9/selectors.py\u001b[0m in \u001b[0;36mselect\u001b[0;34m(self, timeout)\u001b[0m\n\u001b[1;32m    467\u001b[0m             \u001b[0mready\u001b[0m \u001b[0;34m=\u001b[0m \u001b[0;34m[\u001b[0m\u001b[0;34m]\u001b[0m\u001b[0;34m\u001b[0m\u001b[0;34m\u001b[0m\u001b[0m\n\u001b[1;32m    468\u001b[0m             \u001b[0;32mtry\u001b[0m\u001b[0;34m:\u001b[0m\u001b[0;34m\u001b[0m\u001b[0;34m\u001b[0m\u001b[0m\n\u001b[0;32m--> 469\u001b[0;31m                 \u001b[0mfd_event_list\u001b[0m \u001b[0;34m=\u001b[0m \u001b[0mself\u001b[0m\u001b[0;34m.\u001b[0m\u001b[0m_selector\u001b[0m\u001b[0;34m.\u001b[0m\u001b[0mpoll\u001b[0m\u001b[0;34m(\u001b[0m\u001b[0mtimeout\u001b[0m\u001b[0;34m,\u001b[0m \u001b[0mmax_ev\u001b[0m\u001b[0;34m)\u001b[0m\u001b[0;34m\u001b[0m\u001b[0;34m\u001b[0m\u001b[0m\n\u001b[0m\u001b[1;32m    470\u001b[0m             \u001b[0;32mexcept\u001b[0m \u001b[0mInterruptedError\u001b[0m\u001b[0;34m:\u001b[0m\u001b[0;34m\u001b[0m\u001b[0;34m\u001b[0m\u001b[0m\n\u001b[1;32m    471\u001b[0m                 \u001b[0;32mreturn\u001b[0m \u001b[0mready\u001b[0m\u001b[0;34m\u001b[0m\u001b[0;34m\u001b[0m\u001b[0m\n",
      "\u001b[0;31mKeyboardInterrupt\u001b[0m: "
     ]
    }
   ],
   "source": [
    "# consumer for results\n",
    "import json \n",
    "import bson\n",
    "import kafka_consumer\n",
    "\n",
    "consumer = kafka_consumer.initialize(\n",
    "    topic_env='TOPIC_RESULTS',\n",
    "    group_id_env='CONSUMER_GROUP_CHUNKS'\n",
    ")\n",
    "for event in consumer:\n",
    "    print(event)"
   ]
  },
  {
   "cell_type": "code",
   "execution_count": 11,
   "id": "d3df5a9b",
   "metadata": {},
   "outputs": [],
   "source": [
    "import json\n",
    "event = json.loads('{\"chunk_id\": \"61da310fccb0a1b5eeca72aa\", \"project_id\": \"000000000000000000000000\", \"text\": \"AB eats their lunch on the automation front. I\\\\u2019ve done both. Siemens is getting better and it\\\\u2019s starting to not matter as much as it did, but AB really has the tech support and integration piece figured out and have for a long time. The Encompass partnership program is helping AB stay ahead on the 3rd party integration as well. \\\\n\\\\nAs far as turbines go, GE makes a much better turbine than Siemens. The GE Mark VI DCS that comes with a F or H class turbine is inferior to Emerson Ovation.\", \"text_metadata\": \"{\\\\\"timestamp\\\\\": 1641683943.0, \\\\\"comment_id\\\\\": \\\\\"hru9bqh\\\\\", \\\\\"post_id\\\\\": \\\\\"rzcfdz\\\\\"}\", \"ner_results\": \"{\\\\\"GE\\\\\": {\\\\\"span\\\\\": [355, 357]}}\", \"sa_results\": \"{\\\\\"label\\\\\": \\\\\"positive\\\\\", \\\\\"score\\\\\": 0.9985002279281616}\"}')"
   ]
  },
  {
   "cell_type": "code",
   "execution_count": 16,
   "id": "3b3d0753",
   "metadata": {},
   "outputs": [
    {
     "data": {
      "text/plain": [
       "{'chunk_id': '61da310fccb0a1b5eeca72aa',\n",
       " 'project_id': '000000000000000000000000',\n",
       " 'text': 'AB eats their lunch on the automation front. I’ve done both. Siemens is getting better and it’s starting to not matter as much as it did, but AB really has the tech support and integration piece figured out and have for a long time. The Encompass partnership program is helping AB stay ahead on the 3rd party integration as well. \\n\\nAs far as turbines go, GE makes a much better turbine than Siemens. The GE Mark VI DCS that comes with a F or H class turbine is inferior to Emerson Ovation.',\n",
       " 'text_metadata': '{\"timestamp\": 1641683943.0, \"comment_id\": \"hru9bqh\", \"post_id\": \"rzcfdz\"}',\n",
       " 'ner_results': '{\"GE\": {\"span\": [355, 357]}}',\n",
       " 'sa_results': '{\"label\": \"positive\", \"score\": 0.9985002279281616}'}"
      ]
     },
     "execution_count": 16,
     "metadata": {},
     "output_type": "execute_result"
    }
   ],
   "source": [
    "event"
   ]
  },
  {
   "cell_type": "code",
   "execution_count": 17,
   "id": "879fcc8d",
   "metadata": {},
   "outputs": [
    {
     "name": "stdout",
     "output_type": "stream",
     "text": [
      "chunk_id\n",
      "project_id\n",
      "text\n",
      "text_metadata\n",
      "ner_results\n",
      "sa_results\n"
     ]
    }
   ],
   "source": [
    "for entity in event:\n",
    "    print(entity)"
   ]
  },
  {
   "cell_type": "code",
   "execution_count": null,
   "id": "b0ae57c8",
   "metadata": {},
   "outputs": [],
   "source": [
    "for entity in event[\"ner_results\"]:\n",
    "    print({\n",
    "        \"entity\" : entity,\n",
    "        \"type\" : \"opinion\",\n",
    "        \"origin\" : \"reddit\",\n",
    "        \"value\" : event[\"sa_results\"][\"label\"]\n",
    "        \"timestamp\" : event[\"text_metadata\"][\"timestamp\"],\n",
    "    })"
   ]
  },
  {
   "cell_type": "code",
   "execution_count": 7,
   "id": "6e93bf1a",
   "metadata": {},
   "outputs": [],
   "source": [
    "import requests\n",
    "import json"
   ]
  },
  {
   "cell_type": "code",
   "execution_count": 8,
   "id": "98d70605",
   "metadata": {},
   "outputs": [],
   "source": [
    "request_body = json.dumps({\n",
    "    \"url_list\" : [\n",
    "        {\n",
    "            \"project_id\":\"000000000000000000000000\",\n",
    "            \"url\": \"https://www.reddit.com/r/stocks/\",\n",
    "            \"url_metadata\": {\"type\" : \"subreddit\"}\n",
    "        },\n",
    "        {\n",
    "            \"project_id\":\"000000000000000000000000\",\n",
    "            \"url\": \"https://www.reddit.com/r/StockMarket/\",\n",
    "            \"url_metadata\": {\"type\" : \"subreddit\"}\n",
    "        }\n",
    "    ]\n",
    "})"
   ]
  },
  {
   "cell_type": "code",
   "execution_count": 9,
   "id": "3d4aea53",
   "metadata": {},
   "outputs": [],
   "source": [
    "r = requests.post(\"http://api:6969/process_urls\",data=request_body)"
   ]
  },
  {
   "cell_type": "code",
   "execution_count": null,
   "id": "8af3794d",
   "metadata": {},
   "outputs": [],
   "source": []
  }
 ],
 "metadata": {
  "kernelspec": {
   "display_name": "Python 3 (ipykernel)",
   "language": "python",
   "name": "python3"
  },
  "language_info": {
   "codemirror_mode": {
    "name": "ipython",
    "version": 3
   },
   "file_extension": ".py",
   "mimetype": "text/x-python",
   "name": "python",
   "nbconvert_exporter": "python",
   "pygments_lexer": "ipython3",
   "version": "3.9.7"
  }
 },
 "nbformat": 4,
 "nbformat_minor": 5
}
