{
 "cells": [
  {
   "cell_type": "code",
   "execution_count": 2,
   "id": "2e63534b",
   "metadata": {},
   "outputs": [],
   "source": [
    "import os\n",
    "from pymongo import MongoClient\n",
    "client = MongoClient(\n",
    "    os.environ.get(\"MONGO_CONNECTION_STRING\")\n",
    ")\n",
    "db = client[\"dragonfly\"]"
   ]
  },
  {
   "cell_type": "code",
   "execution_count": 43,
   "id": "78878a6f",
   "metadata": {},
   "outputs": [],
   "source": [
    "problem_cryptos = [\"FOR\",\"LIKE\",\"IF\",\"GET\",\"TIME\",\"ANY\",\"GO\",\"ONE\",\"WELL\",\"NEW\",\"SURE\",\"KEEP\",\"TOP\",\"HARD\",\"BEST\",\"PAY\",\"TRUE\",\"PART\",\"TRY\",\"DATA\",\"HIT\",\"ETC\",\"FREE\",\"GAME\",\"LET\",\"DIP\",\"LET\",\"EASY\",\"BANK\",\"FINE\",\"AUTO\",\"LINK\",\"SMART\",\"STACK\",\"PAID\",\"PUSH\",\"MOON\",\"QUICK\",\"WHALE\",\"COVER\",\"SWAP\",\"CARD\",\"TON\",\"BASIC\",\"COVER\",\"PEAK\",\"FRONT\",\"GAS\",\"HOT\",\"MATH\",\"DOT\",\"FLOW\",\"ACT\",\"BOND\",\"MASS\",\"WHITE\",\"TEN\",\"ALT\",\"STAKE\"]"
   ]
  },
  {
   "cell_type": "code",
   "execution_count": 7,
   "id": "8af3794d",
   "metadata": {},
   "outputs": [
    {
     "data": {
      "text/plain": [
       "[{'_id': ObjectId('6206be239e5bd118e0ce51f1'),\n",
       "  'entity': 'ONE',\n",
       "  'synonims': ['Harmony', 'ONE'],\n",
       "  'domain': 'crypto'},\n",
       " {'_id': ObjectId('6206be239e5bd118e0ce5366'),\n",
       "  'entity': 'ANY',\n",
       "  'synonims': ['Anyswap', 'ANY'],\n",
       "  'domain': 'crypto'},\n",
       " {'_id': ObjectId('6206be239e5bd118e0ce53a3'),\n",
       "  'entity': 'GET',\n",
       "  'synonims': ['GET Protocol', 'GET'],\n",
       "  'domain': 'crypto'},\n",
       " {'_id': ObjectId('6206be239e5bd118e0ce53f2'),\n",
       "  'entity': 'IF',\n",
       "  'synonims': ['Impossible Finance', 'IF'],\n",
       "  'domain': 'crypto'},\n",
       " {'_id': ObjectId('6206be239e5bd118e0ce540c'),\n",
       "  'entity': 'GO',\n",
       "  'synonims': ['GoChain', 'GO'],\n",
       "  'domain': 'crypto'},\n",
       " {'_id': ObjectId('6206be239e5bd118e0ce5424'),\n",
       "  'entity': 'FOR',\n",
       "  'synonims': ['ForTube', 'FOR'],\n",
       "  'domain': 'crypto'},\n",
       " {'_id': ObjectId('6206be239e5bd118e0ce5477'),\n",
       "  'entity': 'LIKE',\n",
       "  'synonims': ['LikeCoin', 'LIKE'],\n",
       "  'domain': 'crypto'},\n",
       " {'_id': ObjectId('6206be239e5bd118e0ce548d'),\n",
       "  'entity': 'ONE',\n",
       "  'synonims': ['BigONE Token', 'ONE'],\n",
       "  'domain': 'crypto'},\n",
       " {'_id': ObjectId('6206be239e5bd118e0ce54a3'),\n",
       "  'entity': 'TIME',\n",
       "  'synonims': ['Chrono.tech', 'TIME'],\n",
       "  'domain': 'crypto'}]"
      ]
     },
     "execution_count": 7,
     "metadata": {},
     "output_type": "execute_result"
    }
   ],
   "source": [
    "db.entities.find({\"entity\":{\"$in\":problem_cryptos}})"
   ]
  },
  {
   "cell_type": "code",
   "execution_count": 44,
   "id": "d248b3bb",
   "metadata": {},
   "outputs": [
    {
     "data": {
      "text/plain": [
       "<pymongo.results.DeleteResult at 0x7f8b0e022440>"
      ]
     },
     "execution_count": 44,
     "metadata": {},
     "output_type": "execute_result"
    }
   ],
   "source": [
    "db.events.delete_many({\"event.entity\":{\"$in\":problem_cryptos}})"
   ]
  },
  {
   "cell_type": "code",
   "execution_count": null,
   "id": "f81ee4dd",
   "metadata": {},
   "outputs": [],
   "source": []
  }
 ],
 "metadata": {
  "kernelspec": {
   "display_name": "Python 3 (ipykernel)",
   "language": "python",
   "name": "python3"
  },
  "language_info": {
   "codemirror_mode": {
    "name": "ipython",
    "version": 3
   },
   "file_extension": ".py",
   "mimetype": "text/x-python",
   "name": "python",
   "nbconvert_exporter": "python",
   "pygments_lexer": "ipython3",
   "version": "3.9.7"
  }
 },
 "nbformat": 4,
 "nbformat_minor": 5
}
