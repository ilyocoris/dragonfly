{
 "cells": [
  {
   "cell_type": "code",
   "execution_count": 1,
   "id": "5299b1bb",
   "metadata": {},
   "outputs": [],
   "source": [
    "import os\n",
    "import grpc\n",
    "import ner_pb2\n",
    "import ner_pb2_grpc"
   ]
  },
  {
   "cell_type": "code",
   "execution_count": 2,
   "id": "4e79f709",
   "metadata": {},
   "outputs": [],
   "source": [
    "ner_channel = grpc.insecure_channel(\n",
    "    os.environ.get(\"NER_SERVER_ADDRESS\")\n",
    ")\n",
    "ner_stub = ner_pb2_grpc.FinanceNERStub(ner_channel)"
   ]
  },
  {
   "cell_type": "code",
   "execution_count": 3,
   "id": "a61183aa",
   "metadata": {},
   "outputs": [],
   "source": [
    "ner_response = ner_stub.ExtractEntities(\n",
    "    ner_pb2.NerRequest(\n",
    "        text=\"I love APPL stocks.\",\n",
    "        metadata=\"kek\"\n",
    "    )\n",
    ")"
   ]
  },
  {
   "cell_type": "code",
   "execution_count": 4,
   "id": "c1f135d3",
   "metadata": {},
   "outputs": [
    {
     "data": {
      "text/plain": [
       "text: \"I love APPL stocks.\"\n",
       "metadata: \"kek\"\n",
       "results: \"{}\""
      ]
     },
     "execution_count": 4,
     "metadata": {},
     "output_type": "execute_result"
    }
   ],
   "source": [
    "ner_response"
   ]
  }
 ],
 "metadata": {
  "kernelspec": {
   "display_name": "Python 3 (ipykernel)",
   "language": "python",
   "name": "python3"
  },
  "language_info": {
   "codemirror_mode": {
    "name": "ipython",
    "version": 3
   },
   "file_extension": ".py",
   "mimetype": "text/x-python",
   "name": "python",
   "nbconvert_exporter": "python",
   "pygments_lexer": "ipython3",
   "version": "3.9.7"
  }
 },
 "nbformat": 4,
 "nbformat_minor": 5
}
