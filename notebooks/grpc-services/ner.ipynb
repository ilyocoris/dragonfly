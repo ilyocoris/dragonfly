{
 "cells": [
  {
   "cell_type": "markdown",
   "id": "cd0ef47b",
   "metadata": {},
   "source": [
    "[x] Make NER microservice.\n",
    "\n",
    "[x] Make server_crypto.py and server_finance.py.\n",
    "\n",
    "[x] Make SA microservice.\n",
    "\n",
    "[x] Make server_crypto.py and server_finance.py.\n",
    "\n",
    "[x] Get Free Tier MongoDB Atlas.\n",
    "\n",
    "[x] NER from entities collection.\n",
    "\n",
    "[ ] Make script to download daily crypto chit-chat data.\n",
    "\n",
    "References:\n",
    "https://arxiv.org/pdf/1905.03423.pdf"
   ]
  },
  {
   "cell_type": "code",
   "execution_count": 1,
   "id": "32a9b140",
   "metadata": {},
   "outputs": [],
   "source": [
    "%reload_ext autoreload\n",
    "%autoreload 2\n",
    "import os\n",
    "import sys\n",
    "import grpc\n",
    "import ner_pb2\n",
    "import ner_pb2_grpc\n",
    "if \"../../ner\" not in sys.path:\n",
    "    sys.path.append(\"../../ner\")"
   ]
  },
  {
   "cell_type": "code",
   "execution_count": 2,
   "id": "febfa45b",
   "metadata": {},
   "outputs": [
    {
     "name": "stdout",
     "output_type": "stream",
     "text": [
      "The autoreload extension is already loaded. To reload it, use:\n",
      "  %reload_ext autoreload\n"
     ]
    }
   ],
   "source": [
    "%load_ext autoreload\n",
    "%autoreload 2\n",
    "from server import NER\n",
    "ner = NER()"
   ]
  },
  {
   "cell_type": "code",
   "execution_count": 5,
   "id": "126561e4",
   "metadata": {},
   "outputs": [
    {
     "data": {
      "text/plain": [
       "text: \"I love Bitcoin stocks and ETH.\"\n",
       "metadata: \"{\\\"request\\\": {\\\"domains\\\": [\\\"crypto\\\"]}, \\\"ner\\\": {\\\"ner_version\\\": \\\"naivekw_0\\\"}}\"\n",
       "results: \"{\\\"BTC\\\": {\\\"span\\\": [7, 14], \\\"match\\\": \\\"Bitcoin\\\", \\\"domain\\\": \\\"crypto\\\"}, \\\"ETH\\\": {\\\"span\\\": [26, 29], \\\"match\\\": \\\"ETH\\\", \\\"domain\\\": \\\"crypto\\\"}}\""
      ]
     },
     "execution_count": 5,
     "metadata": {},
     "output_type": "execute_result"
    }
   ],
   "source": [
    "ner_request =     ner_pb2.NerRequest(\n",
    "        text=\"I love Bitcoin stocks and ETH.\",\n",
    "        metadata=\"{\\\"request\\\":{\\\"domains\\\":[\\\"crypto\\\"]}}\"\n",
    "    )\n",
    "ner.ExtractEntities(request=ner_request,context = None)"
   ]
  },
  {
   "cell_type": "code",
   "execution_count": 4,
   "id": "5299b1bb",
   "metadata": {},
   "outputs": [
    {
     "ename": "_InactiveRpcError",
     "evalue": "<_InactiveRpcError of RPC that terminated with:\n\tstatus = StatusCode.UNKNOWN\n\tdetails = \"Exception calling application: Expecting value: line 1 column 1 (char 0)\"\n\tdebug_error_string = \"{\"created\":\"@1645138506.581895559\",\"description\":\"Error received from peer ipv4:172.24.0.8:50052\",\"file\":\"src/core/lib/surface/call.cc\",\"file_line\":1074,\"grpc_message\":\"Exception calling application: Expecting value: line 1 column 1 (char 0)\",\"grpc_status\":2}\"\n>",
     "output_type": "error",
     "traceback": [
      "\u001b[0;31m---------------------------------------------------------------------------\u001b[0m",
      "\u001b[0;31m_InactiveRpcError\u001b[0m                         Traceback (most recent call last)",
      "Input \u001b[0;32mIn [4]\u001b[0m, in \u001b[0;36m<module>\u001b[0;34m\u001b[0m\n\u001b[1;32m      8\u001b[0m ner_channel \u001b[38;5;241m=\u001b[39m grpc\u001b[38;5;241m.\u001b[39minsecure_channel(\n\u001b[1;32m      9\u001b[0m     os\u001b[38;5;241m.\u001b[39menviron\u001b[38;5;241m.\u001b[39mget(\u001b[38;5;124m\"\u001b[39m\u001b[38;5;124mNER_SERVER_ADDRESS\u001b[39m\u001b[38;5;124m\"\u001b[39m)\n\u001b[1;32m     10\u001b[0m )\n\u001b[1;32m     11\u001b[0m ner_stub \u001b[38;5;241m=\u001b[39m ner_pb2_grpc\u001b[38;5;241m.\u001b[39mNERStub(ner_channel)\n\u001b[0;32m---> 13\u001b[0m ner_response \u001b[38;5;241m=\u001b[39m \u001b[43mner_stub\u001b[49m\u001b[38;5;241;43m.\u001b[39;49m\u001b[43mExtractEntities\u001b[49m\u001b[43m(\u001b[49m\n\u001b[1;32m     14\u001b[0m \u001b[43m    \u001b[49m\u001b[43mner_pb2\u001b[49m\u001b[38;5;241;43m.\u001b[39;49m\u001b[43mNerRequest\u001b[49m\u001b[43m(\u001b[49m\n\u001b[1;32m     15\u001b[0m \u001b[43m        \u001b[49m\u001b[43mtext\u001b[49m\u001b[38;5;241;43m=\u001b[39;49m\u001b[38;5;124;43m\"\u001b[39;49m\u001b[38;5;124;43mI love Stacks stocks.\u001b[39;49m\u001b[38;5;124;43m\"\u001b[39;49m\u001b[43m,\u001b[49m\n\u001b[1;32m     16\u001b[0m \u001b[43m        \u001b[49m\u001b[43mmetadata\u001b[49m\u001b[38;5;241;43m=\u001b[39;49m\u001b[38;5;124;43m\"\u001b[39;49m\u001b[38;5;124;43mkek\u001b[39;49m\u001b[38;5;124;43m\"\u001b[39;49m\n\u001b[1;32m     17\u001b[0m \u001b[43m    \u001b[49m\u001b[43m)\u001b[49m\n\u001b[1;32m     18\u001b[0m \u001b[43m)\u001b[49m\n\u001b[1;32m     20\u001b[0m ner_response\n",
      "File \u001b[0;32m/opt/conda/lib/python3.9/site-packages/grpc/_channel.py:946\u001b[0m, in \u001b[0;36m_UnaryUnaryMultiCallable.__call__\u001b[0;34m(self, request, timeout, metadata, credentials, wait_for_ready, compression)\u001b[0m\n\u001b[1;32m    937\u001b[0m \u001b[38;5;28;01mdef\u001b[39;00m \u001b[38;5;21m__call__\u001b[39m(\u001b[38;5;28mself\u001b[39m,\n\u001b[1;32m    938\u001b[0m              request,\n\u001b[1;32m    939\u001b[0m              timeout\u001b[38;5;241m=\u001b[39m\u001b[38;5;28;01mNone\u001b[39;00m,\n\u001b[0;32m   (...)\u001b[0m\n\u001b[1;32m    942\u001b[0m              wait_for_ready\u001b[38;5;241m=\u001b[39m\u001b[38;5;28;01mNone\u001b[39;00m,\n\u001b[1;32m    943\u001b[0m              compression\u001b[38;5;241m=\u001b[39m\u001b[38;5;28;01mNone\u001b[39;00m):\n\u001b[1;32m    944\u001b[0m     state, call, \u001b[38;5;241m=\u001b[39m \u001b[38;5;28mself\u001b[39m\u001b[38;5;241m.\u001b[39m_blocking(request, timeout, metadata, credentials,\n\u001b[1;32m    945\u001b[0m                                   wait_for_ready, compression)\n\u001b[0;32m--> 946\u001b[0m     \u001b[38;5;28;01mreturn\u001b[39;00m \u001b[43m_end_unary_response_blocking\u001b[49m\u001b[43m(\u001b[49m\u001b[43mstate\u001b[49m\u001b[43m,\u001b[49m\u001b[43m \u001b[49m\u001b[43mcall\u001b[49m\u001b[43m,\u001b[49m\u001b[43m \u001b[49m\u001b[38;5;28;43;01mFalse\u001b[39;49;00m\u001b[43m,\u001b[49m\u001b[43m \u001b[49m\u001b[38;5;28;43;01mNone\u001b[39;49;00m\u001b[43m)\u001b[49m\n",
      "File \u001b[0;32m/opt/conda/lib/python3.9/site-packages/grpc/_channel.py:849\u001b[0m, in \u001b[0;36m_end_unary_response_blocking\u001b[0;34m(state, call, with_call, deadline)\u001b[0m\n\u001b[1;32m    847\u001b[0m         \u001b[38;5;28;01mreturn\u001b[39;00m state\u001b[38;5;241m.\u001b[39mresponse\n\u001b[1;32m    848\u001b[0m \u001b[38;5;28;01melse\u001b[39;00m:\n\u001b[0;32m--> 849\u001b[0m     \u001b[38;5;28;01mraise\u001b[39;00m _InactiveRpcError(state)\n",
      "\u001b[0;31m_InactiveRpcError\u001b[0m: <_InactiveRpcError of RPC that terminated with:\n\tstatus = StatusCode.UNKNOWN\n\tdetails = \"Exception calling application: Expecting value: line 1 column 1 (char 0)\"\n\tdebug_error_string = \"{\"created\":\"@1645138506.581895559\",\"description\":\"Error received from peer ipv4:172.24.0.8:50052\",\"file\":\"src/core/lib/surface/call.cc\",\"file_line\":1074,\"grpc_message\":\"Exception calling application: Expecting value: line 1 column 1 (char 0)\",\"grpc_status\":2}\"\n>"
     ]
    }
   ],
   "source": [
    "\n",
    "\n",
    "ner_channel = grpc.insecure_channel(\n",
    "    os.environ.get(\"NER_SERVER_ADDRESS\")\n",
    ")\n",
    "ner_stub = ner_pb2_grpc.NERStub(ner_channel)\n",
    "\n",
    "ner_response = ner_stub.ExtractEntities(\n",
    "    ner_pb2.NerRequest(\n",
    "        text=\"I love Stacks stocks.\",\n",
    "        metadata=\"kek\"\n",
    "    )\n",
    ")\n",
    "\n",
    "ner_response"
   ]
  },
  {
   "cell_type": "code",
   "execution_count": 1,
   "id": "3e6f40e6",
   "metadata": {},
   "outputs": [],
   "source": [
    "import requests\n",
    "import pandas as pd\n",
    "from bs4 import BeautifulSoup"
   ]
  },
  {
   "cell_type": "code",
   "execution_count": 1,
   "id": "18dc6320",
   "metadata": {},
   "outputs": [],
   "source": [
    "r = requests.get(\"https://coinmarketcap.com/all/views/all/\")\n",
    "soup = BeautifulSoup(r.content,'html.parser')\n",
    "data = []\n",
    "\n",
    "for row in soup.find_all('tr'):\n",
    "    row_data = []\n",
    "    for item in row.find_all('td')[:-1]:\n",
    "        row_data.append(item.text)\n",
    "    data.append(row_data)\n",
    "data_cryptos = pd.DataFrame(data, columns = [\"Rank\",\"Name\",\"Symbol\",\"Market Cap\",\"Price\",\"Circulating Supply\", \"Volumne(24h)\",\"%1h\",\"%24h\",\"%7d\"])\n",
    "data_cryptos = data_cryptos[[\"Name\",\"Symbol\"]].dropna()"
   ]
  },
  {
   "cell_type": "code",
   "execution_count": 2,
   "id": "f3fbb89b",
   "metadata": {},
   "outputs": [
    {
     "data": {
      "text/plain": [
       "[{'entity': 'BTC', 'domain': 'crypto', 'synonims': ['BTC', 'Bitcoin']},\n",
       " {'entity': 'ETH', 'domain': 'crypto', 'synonims': ['ETH', 'Ethereum']},\n",
       " {'entity': 'USDT', 'domain': 'crypto', 'synonims': ['USDT', 'Tether']},\n",
       " {'entity': 'BNB', 'domain': 'crypto', 'synonims': ['BNB', 'BNB']},\n",
       " {'entity': 'USDC', 'domain': 'crypto', 'synonims': ['USDC', 'USD Coin']},\n",
       " {'entity': 'XRP', 'domain': 'crypto', 'synonims': ['XRP', 'XRP']},\n",
       " {'entity': 'ADA', 'domain': 'crypto', 'synonims': ['ADA', 'Cardano']},\n",
       " {'entity': 'SOL', 'domain': 'crypto', 'synonims': ['SOL', 'Solana']},\n",
       " {'entity': 'LUNA', 'domain': 'crypto', 'synonims': ['LUNA', 'Terra']},\n",
       " {'entity': 'DOT', 'domain': 'crypto', 'synonims': ['DOT', 'Polkadot']},\n",
       " {'entity': 'AVAX', 'domain': 'crypto', 'synonims': ['AVAX', 'Avalanche']},\n",
       " {'entity': 'DOGE', 'domain': 'crypto', 'synonims': ['DOGE', 'Dogecoin']},\n",
       " {'entity': 'SHIB', 'domain': 'crypto', 'synonims': ['SHIB', 'Shiba Inu']},\n",
       " {'entity': 'BUSD', 'domain': 'crypto', 'synonims': ['BUSD', 'Binance USD']},\n",
       " {'entity': 'MATIC', 'domain': 'crypto', 'synonims': ['MATIC', 'Polygon']},\n",
       " {'entity': 'CRO', 'domain': 'crypto', 'synonims': ['CRO', 'Crypto.com Coin']},\n",
       " {'entity': 'WBTC',\n",
       "  'domain': 'crypto',\n",
       "  'synonims': ['WBTC', 'Wrapped Bitcoin']},\n",
       " {'entity': 'UST', 'domain': 'crypto', 'synonims': ['UST', 'TerraUSD']},\n",
       " {'entity': 'DAI', 'domain': 'crypto', 'synonims': ['DAI', 'Dai']},\n",
       " {'entity': 'LTC', 'domain': 'crypto', 'synonims': ['LTC', 'Litecoin']}]"
      ]
     },
     "execution_count": 2,
     "metadata": {},
     "output_type": "execute_result"
    }
   ],
   "source": [
    "crypto_entities = []\n",
    "for _,row in data_cryptos.iterrows():\n",
    "    crypto_entities.append({\n",
    "        \"entity\":row[\"Symbol\"],\n",
    "        \"domain\":\"crypto\",\n",
    "        \"synonims\":[row[\"Symbol\"],row[\"Name\"][len(row[\"Symbol\"]):]]\n",
    "    })\n",
    "crypto_entities"
   ]
  },
  {
   "cell_type": "code",
   "execution_count": 3,
   "id": "b188e628",
   "metadata": {},
   "outputs": [],
   "source": [
    "import os\n",
    "from pymongo import MongoClient\n",
    "client = MongoClient(os.getenv(\"MONGO_CONNECTION_STRING\"))\n",
    "db = client[os.getenv(\"MONGO_DB_NAME\")]\n",
    "#db.entities.insert_many(crypto_entities)"
   ]
  },
  {
   "cell_type": "code",
   "execution_count": 11,
   "id": "1629aa1d",
   "metadata": {},
   "outputs": [
    {
     "data": {
      "text/plain": [
       "<pymongo.results.InsertManyResult at 0x7f7fa9aff7c0>"
      ]
     },
     "execution_count": 11,
     "metadata": {},
     "output_type": "execute_result"
    }
   ],
   "source": [
    "sp500 = pd.read_csv(\"../../ner/s&p.csv\")\n",
    "sp_entities = []\n",
    "for _, row in sp500.iterrows():\n",
    "    sp_entities.append({\n",
    "        \"entity\":row[\"Symbol\"],\n",
    "        \"domain\":\"finance\",\n",
    "        \"sector\":row[\"Sector\"],\n",
    "        \"synonims\":[row[\"Symbol\"],row[\"Name\"]]\n",
    "    })\n",
    "db.entities.insert_many(sp_entities)"
   ]
  },
  {
   "cell_type": "code",
   "execution_count": 8,
   "id": "cf33b5d2",
   "metadata": {},
   "outputs": [
    {
     "name": "stdout",
     "output_type": "stream",
     "text": [
      "{'BTC': {'synonims': ['BTC', 'Bitcoin'], 'domain': 'crypto'}, 'ETH': {'synonims': ['ETH', 'Ethereum'], 'domain': 'crypto'}, 'USDT': {'synonims': ['USDT', 'Tether'], 'domain': 'crypto'}, 'BNB': {'synonims': ['BNB', 'BNB'], 'domain': 'crypto'}, 'USDC': {'synonims': ['USDC', 'USD Coin'], 'domain': 'crypto'}, 'XRP': {'synonims': ['XRP', 'XRP'], 'domain': 'crypto'}, 'ADA': {'synonims': ['ADA', 'Cardano'], 'domain': 'crypto'}, 'SOL': {'synonims': ['SOL', 'Solana'], 'domain': 'crypto'}, 'LUNA': {'synonims': ['LUNA', 'Terra'], 'domain': 'crypto'}, 'DOT': {'synonims': ['DOT', 'Polkadot'], 'domain': 'crypto'}, 'AVAX': {'synonims': ['AVAX', 'Avalanche'], 'domain': 'crypto'}, 'DOGE': {'synonims': ['DOGE', 'Dogecoin'], 'domain': 'crypto'}, 'SHIB': {'synonims': ['SHIB', 'Shiba Inu'], 'domain': 'crypto'}, 'BUSD': {'synonims': ['BUSD', 'Binance USD'], 'domain': 'crypto'}, 'MATIC': {'synonims': ['MATIC', 'Polygon'], 'domain': 'crypto'}, 'CRO': {'synonims': ['CRO', 'Crypto.com Coin'], 'domain': 'crypto'}, 'WBTC': {'synonims': ['WBTC', 'Wrapped Bitcoin'], 'domain': 'crypto'}, 'UST': {'synonims': ['UST', 'TerraUSD'], 'domain': 'crypto'}, 'DAI': {'synonims': ['DAI', 'Dai'], 'domain': 'crypto'}, 'LTC': {'synonims': ['LTC', 'Litecoin'], 'domain': 'crypto'}}\n"
     ]
    }
   ],
   "source": [
    "import os\n",
    "import sys\n",
    "if \".../../ner\" not in sys.path:\n",
    "    sys.path.append(\"../../ner\")\n",
    "\n",
    "from server_crypto import NER\n",
    "ner_stub = NER()"
   ]
  },
  {
   "cell_type": "code",
   "execution_count": 1,
   "id": "4aae7841",
   "metadata": {},
   "outputs": [
    {
     "ename": "NameError",
     "evalue": "name 'ner_stub' is not defined",
     "output_type": "error",
     "traceback": [
      "\u001b[0;31m---------------------------------------------------------------------------\u001b[0m",
      "\u001b[0;31mNameError\u001b[0m                                 Traceback (most recent call last)",
      "Input \u001b[0;32mIn [1]\u001b[0m, in \u001b[0;36m<module>\u001b[0;34m\u001b[0m\n\u001b[0;32m----> 1\u001b[0m ner_response \u001b[38;5;241m=\u001b[39m \u001b[43mner_stub\u001b[49m\u001b[38;5;241m.\u001b[39mExtractEntities(\n\u001b[1;32m      2\u001b[0m     ner_pb2\u001b[38;5;241m.\u001b[39mNerRequest(\n\u001b[1;32m      3\u001b[0m         text\u001b[38;5;241m=\u001b[39m\u001b[38;5;124m\"\u001b[39m\u001b[38;5;124mI love btc stocks.\u001b[39m\u001b[38;5;124m\"\u001b[39m,\n\u001b[1;32m      4\u001b[0m         metadata\u001b[38;5;241m=\u001b[39m\u001b[38;5;124m\"\u001b[39m\u001b[38;5;124mkek\u001b[39m\u001b[38;5;124m\"\u001b[39m\n\u001b[1;32m      5\u001b[0m     ),\n\u001b[1;32m      6\u001b[0m     context\u001b[38;5;241m=\u001b[39m\u001b[38;5;28;01mNone\u001b[39;00m\n\u001b[1;32m      7\u001b[0m )\n\u001b[1;32m      9\u001b[0m ner_response\n",
      "\u001b[0;31mNameError\u001b[0m: name 'ner_stub' is not defined"
     ]
    }
   ],
   "source": [
    "ner_response = ner_stub.ExtractEntities(\n",
    "    ner_pb2.NerRequest(\n",
    "        text=\"I love btc stocks.\",\n",
    "        metadata=\"kek\"\n",
    "    ),\n",
    "    context=None\n",
    ")\n",
    "\n",
    "ner_response"
   ]
  },
  {
   "cell_type": "code",
   "execution_count": null,
   "id": "b66db0a0",
   "metadata": {},
   "outputs": [],
   "source": [
    "r = requests.get(\"https://www.gkgigs.com/list-of-top-cryptocurrencies/#List_Of_Top_1000_Cryptocurrencies_In_The_World\")\n",
    "soup = BeautifulSoup(r.content,'html.parser')\n"
   ]
  },
  {
   "cell_type": "code",
   "execution_count": 19,
   "id": "b862d114",
   "metadata": {},
   "outputs": [],
   "source": [
    "data = []\n",
    "for row in soup.find_all('tr')[22:]:\n",
    "    row_data = []\n",
    "    for item in row.find_all('td')[1:]:\n",
    "        row_data.append(item.text)\n",
    "    data.append(row_data)"
   ]
  },
  {
   "cell_type": "code",
   "execution_count": 23,
   "id": "289c3cee",
   "metadata": {},
   "outputs": [],
   "source": [
    "data = data[1:-1]"
   ]
  },
  {
   "cell_type": "code",
   "execution_count": 29,
   "id": "c6616c2b",
   "metadata": {},
   "outputs": [],
   "source": [
    "docs = []\n",
    "for d in data:\n",
    "    if d:\n",
    "        docs.append({\n",
    "            \"entity\":d[1],\n",
    "            \"synonims\":d,\n",
    "            \"domain\":\"crypto\"\n",
    "        })"
   ]
  },
  {
   "cell_type": "code",
   "execution_count": 32,
   "id": "f55036ee",
   "metadata": {},
   "outputs": [
    {
     "data": {
      "text/plain": [
       "<pymongo.results.DeleteResult at 0x7fe9c31ceb80>"
      ]
     },
     "execution_count": 32,
     "metadata": {},
     "output_type": "execute_result"
    }
   ],
   "source": [
    "db.entities.delete_many({\"domain\":\"crypto\"})"
   ]
  }
 ],
 "metadata": {
  "kernelspec": {
   "display_name": "Python 3 (ipykernel)",
   "language": "python",
   "name": "python3"
  },
  "language_info": {
   "codemirror_mode": {
    "name": "ipython",
    "version": 3
   },
   "file_extension": ".py",
   "mimetype": "text/x-python",
   "name": "python",
   "nbconvert_exporter": "python",
   "pygments_lexer": "ipython3",
   "version": "3.9.7"
  }
 },
 "nbformat": 4,
 "nbformat_minor": 5
}
