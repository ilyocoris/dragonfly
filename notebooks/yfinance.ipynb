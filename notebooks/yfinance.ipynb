{
 "cells": [
  {
   "cell_type": "code",
   "execution_count": 1,
   "id": "756aa92b",
   "metadata": {},
   "outputs": [],
   "source": [
    "import os\n",
    "from pymongo import MongoClient\n",
    "\n",
    "client = MongoClient(os.environ.get(\"MONGO_CONNECTION_STRING\"))\n",
    "db = client[\"dragonfly\"]"
   ]
  },
  {
   "cell_type": "code",
   "execution_count": 65,
   "id": "c456b108",
   "metadata": {},
   "outputs": [
    {
     "data": {
      "text/plain": [
       "datetime.datetime(2022, 1, 10, 22, 4, 11)"
      ]
     },
     "execution_count": 65,
     "metadata": {},
     "output_type": "execute_result"
    }
   ],
   "source": [
    "db.events.find_one({})[\"timestamp\"]"
   ]
  },
  {
   "cell_type": "code",
   "execution_count": 19,
   "id": "1e3670d2",
   "metadata": {},
   "outputs": [],
   "source": [
    "from datetime import datetime, timezone\n",
    "import yfinance as yf"
   ]
  },
  {
   "cell_type": "code",
   "execution_count": 58,
   "id": "405fd998",
   "metadata": {},
   "outputs": [],
   "source": [
    "entity = \"MSFT\"\n",
    "entity_stock = yf.Ticker(entity)\n",
    "hist = entity_stock.history(\n",
    "   period=\"5d\", \n",
    "    interval=\"1h\")"
   ]
  },
  {
   "cell_type": "code",
   "execution_count": 70,
   "id": "acab56ca",
   "metadata": {},
   "outputs": [
    {
     "ename": "TypeError",
     "evalue": "int() argument must be a string, a bytes-like object or a number, not 'Timestamp'",
     "output_type": "error",
     "traceback": [
      "\u001b[0;31m---------------------------------------------------------------------------\u001b[0m",
      "\u001b[0;31mTypeError\u001b[0m                                 Traceback (most recent call last)",
      "\u001b[0;32m/tmp/ipykernel_24/2958580917.py\u001b[0m in \u001b[0;36m<module>\u001b[0;34m\u001b[0m\n\u001b[0;32m----> 1\u001b[0;31m \u001b[0mdatetime\u001b[0m\u001b[0;34m.\u001b[0m\u001b[0mfromtimestamp\u001b[0m\u001b[0;34m(\u001b[0m\u001b[0mint\u001b[0m\u001b[0;34m(\u001b[0m\u001b[0mhist\u001b[0m\u001b[0;34m.\u001b[0m\u001b[0mindex\u001b[0m\u001b[0;34m[\u001b[0m\u001b[0;36m0\u001b[0m\u001b[0;34m]\u001b[0m\u001b[0;34m)\u001b[0m\u001b[0;34m)\u001b[0m\u001b[0;34m\u001b[0m\u001b[0;34m\u001b[0m\u001b[0m\n\u001b[0m",
      "\u001b[0;31mTypeError\u001b[0m: int() argument must be a string, a bytes-like object or a number, not 'Timestamp'"
     ]
    }
   ],
   "source": [
    "datetime.fromtimestamp(hist.index[0].)"
   ]
  },
  {
   "cell_type": "code",
   "execution_count": 67,
   "id": "59618e20",
   "metadata": {},
   "outputs": [
    {
     "ename": "TypeError",
     "evalue": "an integer is required (got type Timestamp)",
     "output_type": "error",
     "traceback": [
      "\u001b[0;31m---------------------------------------------------------------------------\u001b[0m",
      "\u001b[0;31mTypeError\u001b[0m                                 Traceback (most recent call last)",
      "\u001b[0;32m/tmp/ipykernel_24/1335624825.py\u001b[0m in \u001b[0;36m<module>\u001b[0;34m\u001b[0m\n\u001b[0;32m----> 1\u001b[0;31m \u001b[0mdatetime\u001b[0m\u001b[0;34m(\u001b[0m\u001b[0mhist\u001b[0m\u001b[0;34m.\u001b[0m\u001b[0mindex\u001b[0m\u001b[0;34m[\u001b[0m\u001b[0;36m0\u001b[0m\u001b[0;34m]\u001b[0m\u001b[0;34m.\u001b[0m\u001b[0mastimezone\u001b[0m\u001b[0;34m(\u001b[0m\u001b[0mtimezone\u001b[0m\u001b[0;34m.\u001b[0m\u001b[0mutc\u001b[0m\u001b[0;34m)\u001b[0m\u001b[0;34m)\u001b[0m \u001b[0;31m#[datetime(2022,1,2,9,30,0): datetime(2022, 1, 2, 18, 0, 0)]\u001b[0m\u001b[0;34m\u001b[0m\u001b[0;34m\u001b[0m\u001b[0m\n\u001b[0m",
      "\u001b[0;31mTypeError\u001b[0m: an integer is required (got type Timestamp)"
     ]
    }
   ],
   "source": [
    "datetime(hist.index[0].astimezone(timezone.utc)) #[datetime(2022,1,2,9,30,0): datetime(2022, 1, 2, 18, 0, 0)]"
   ]
  },
  {
   "cell_type": "code",
   "execution_count": 33,
   "id": "432eea17",
   "metadata": {},
   "outputs": [
    {
     "name": "stdout",
     "output_type": "stream",
     "text": [
      "{'event': {'entity': 'MSFT', 'type': 'stock', 'origin': 'yfinance', 'value': 323}, 'timestamp': Timestamp('2022-01-05 14:30:00+0000', tz='UTC'), 'metadata': {}}\n",
      "{'event': {'entity': 'MSFT', 'type': 'stock', 'origin': 'yfinance', 'value': 322}, 'timestamp': Timestamp('2022-01-05 15:30:00+0000', tz='UTC'), 'metadata': {}}\n",
      "{'event': {'entity': 'MSFT', 'type': 'stock', 'origin': 'yfinance', 'value': 321}, 'timestamp': Timestamp('2022-01-05 16:30:00+0000', tz='UTC'), 'metadata': {}}\n",
      "{'event': {'entity': 'MSFT', 'type': 'stock', 'origin': 'yfinance', 'value': 321}, 'timestamp': Timestamp('2022-01-05 17:30:00+0000', tz='UTC'), 'metadata': {}}\n",
      "{'event': {'entity': 'MSFT', 'type': 'stock', 'origin': 'yfinance', 'value': 319}, 'timestamp': Timestamp('2022-01-05 18:30:00+0000', tz='UTC'), 'metadata': {}}\n",
      "{'event': {'entity': 'MSFT', 'type': 'stock', 'origin': 'yfinance', 'value': 317}, 'timestamp': Timestamp('2022-01-05 19:30:00+0000', tz='UTC'), 'metadata': {}}\n",
      "{'event': {'entity': 'MSFT', 'type': 'stock', 'origin': 'yfinance', 'value': 315}, 'timestamp': Timestamp('2022-01-05 20:30:00+0000', tz='UTC'), 'metadata': {}}\n",
      "{'event': {'entity': 'MSFT', 'type': 'stock', 'origin': 'yfinance', 'value': 317}, 'timestamp': Timestamp('2022-01-06 14:30:00+0000', tz='UTC'), 'metadata': {}}\n",
      "{'event': {'entity': 'MSFT', 'type': 'stock', 'origin': 'yfinance', 'value': 315}, 'timestamp': Timestamp('2022-01-06 15:30:00+0000', tz='UTC'), 'metadata': {}}\n",
      "{'event': {'entity': 'MSFT', 'type': 'stock', 'origin': 'yfinance', 'value': 315}, 'timestamp': Timestamp('2022-01-06 16:30:00+0000', tz='UTC'), 'metadata': {}}\n",
      "{'event': {'entity': 'MSFT', 'type': 'stock', 'origin': 'yfinance', 'value': 314}, 'timestamp': Timestamp('2022-01-06 17:30:00+0000', tz='UTC'), 'metadata': {}}\n",
      "{'event': {'entity': 'MSFT', 'type': 'stock', 'origin': 'yfinance', 'value': 314}, 'timestamp': Timestamp('2022-01-06 18:30:00+0000', tz='UTC'), 'metadata': {}}\n",
      "{'event': {'entity': 'MSFT', 'type': 'stock', 'origin': 'yfinance', 'value': 315}, 'timestamp': Timestamp('2022-01-06 19:30:00+0000', tz='UTC'), 'metadata': {}}\n",
      "{'event': {'entity': 'MSFT', 'type': 'stock', 'origin': 'yfinance', 'value': 313}, 'timestamp': Timestamp('2022-01-06 20:30:00+0000', tz='UTC'), 'metadata': {}}\n",
      "{'event': {'entity': 'MSFT', 'type': 'stock', 'origin': 'yfinance', 'value': 312}, 'timestamp': Timestamp('2022-01-07 14:30:00+0000', tz='UTC'), 'metadata': {}}\n",
      "{'event': {'entity': 'MSFT', 'type': 'stock', 'origin': 'yfinance', 'value': 312}, 'timestamp': Timestamp('2022-01-07 15:30:00+0000', tz='UTC'), 'metadata': {}}\n",
      "{'event': {'entity': 'MSFT', 'type': 'stock', 'origin': 'yfinance', 'value': 313}, 'timestamp': Timestamp('2022-01-07 16:30:00+0000', tz='UTC'), 'metadata': {}}\n",
      "{'event': {'entity': 'MSFT', 'type': 'stock', 'origin': 'yfinance', 'value': 313}, 'timestamp': Timestamp('2022-01-07 17:30:00+0000', tz='UTC'), 'metadata': {}}\n",
      "{'event': {'entity': 'MSFT', 'type': 'stock', 'origin': 'yfinance', 'value': 313}, 'timestamp': Timestamp('2022-01-07 18:30:00+0000', tz='UTC'), 'metadata': {}}\n",
      "{'event': {'entity': 'MSFT', 'type': 'stock', 'origin': 'yfinance', 'value': 314}, 'timestamp': Timestamp('2022-01-07 19:30:00+0000', tz='UTC'), 'metadata': {}}\n",
      "{'event': {'entity': 'MSFT', 'type': 'stock', 'origin': 'yfinance', 'value': 314}, 'timestamp': Timestamp('2022-01-07 20:30:00+0000', tz='UTC'), 'metadata': {}}\n",
      "{'event': {'entity': 'MSFT', 'type': 'stock', 'origin': 'yfinance', 'value': 306}, 'timestamp': Timestamp('2022-01-10 14:30:00+0000', tz='UTC'), 'metadata': {}}\n",
      "{'event': {'entity': 'MSFT', 'type': 'stock', 'origin': 'yfinance', 'value': 308}, 'timestamp': Timestamp('2022-01-10 15:30:00+0000', tz='UTC'), 'metadata': {}}\n",
      "{'event': {'entity': 'MSFT', 'type': 'stock', 'origin': 'yfinance', 'value': 305}, 'timestamp': Timestamp('2022-01-10 16:30:00+0000', tz='UTC'), 'metadata': {}}\n",
      "{'event': {'entity': 'MSFT', 'type': 'stock', 'origin': 'yfinance', 'value': 309}, 'timestamp': Timestamp('2022-01-10 17:30:00+0000', tz='UTC'), 'metadata': {}}\n",
      "{'event': {'entity': 'MSFT', 'type': 'stock', 'origin': 'yfinance', 'value': 311}, 'timestamp': Timestamp('2022-01-10 18:30:00+0000', tz='UTC'), 'metadata': {}}\n",
      "{'event': {'entity': 'MSFT', 'type': 'stock', 'origin': 'yfinance', 'value': 311}, 'timestamp': Timestamp('2022-01-10 19:30:00+0000', tz='UTC'), 'metadata': {}}\n",
      "{'event': {'entity': 'MSFT', 'type': 'stock', 'origin': 'yfinance', 'value': 314}, 'timestamp': Timestamp('2022-01-10 20:30:00+0000', tz='UTC'), 'metadata': {}}\n",
      "{'event': {'entity': 'MSFT', 'type': 'stock', 'origin': 'yfinance', 'value': 312}, 'timestamp': Timestamp('2022-01-11 14:30:00+0000', tz='UTC'), 'metadata': {}}\n",
      "{'event': {'entity': 'MSFT', 'type': 'stock', 'origin': 'yfinance', 'value': 315}, 'timestamp': Timestamp('2022-01-11 15:30:00+0000', tz='UTC'), 'metadata': {}}\n",
      "{'event': {'entity': 'MSFT', 'type': 'stock', 'origin': 'yfinance', 'value': 314}, 'timestamp': Timestamp('2022-01-11 16:30:00+0000', tz='UTC'), 'metadata': {}}\n",
      "{'event': {'entity': 'MSFT', 'type': 'stock', 'origin': 'yfinance', 'value': 315}, 'timestamp': Timestamp('2022-01-11 17:30:00+0000', tz='UTC'), 'metadata': {}}\n",
      "{'event': {'entity': 'MSFT', 'type': 'stock', 'origin': 'yfinance', 'value': 314}, 'timestamp': Timestamp('2022-01-11 18:30:00+0000', tz='UTC'), 'metadata': {}}\n",
      "{'event': {'entity': 'MSFT', 'type': 'stock', 'origin': 'yfinance', 'value': 315}, 'timestamp': Timestamp('2022-01-11 19:30:00+0000', tz='UTC'), 'metadata': {}}\n",
      "{'event': {'entity': 'MSFT', 'type': 'stock', 'origin': 'yfinance', 'value': 314}, 'timestamp': Timestamp('2022-01-11 20:30:00+0000', tz='UTC'), 'metadata': {}}\n"
     ]
    }
   ],
   "source": [
    "for ts,row in hist.iterrows():\n",
    "    event = {\n",
    "        \"event\" : {\n",
    "            \"entity\": entity,\n",
    "            \"type\": \"stock\",\n",
    "            \"origin\": \"yfinance\",\n",
    "            \"value\":int(row[\"Close\"])\n",
    "        },\n",
    "        \"timestamp\": ts.astimezone(timezone.utc),\n",
    "        \"metadata\":{}\n",
    "    }\n",
    "    print(event)"
   ]
  },
  {
   "cell_type": "code",
   "execution_count": null,
   "id": "661b5881",
   "metadata": {},
   "outputs": [],
   "source": []
  }
 ],
 "metadata": {
  "kernelspec": {
   "display_name": "Python 3 (ipykernel)",
   "language": "python",
   "name": "python3"
  },
  "language_info": {
   "codemirror_mode": {
    "name": "ipython",
    "version": 3
   },
   "file_extension": ".py",
   "mimetype": "text/x-python",
   "name": "python",
   "nbconvert_exporter": "python",
   "pygments_lexer": "ipython3",
   "version": "3.9.7"
  }
 },
 "nbformat": 4,
 "nbformat_minor": 5
}
