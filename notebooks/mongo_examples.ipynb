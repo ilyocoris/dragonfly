{
 "cells": [
  {
   "cell_type": "code",
   "execution_count": 20,
   "id": "0abf8973",
   "metadata": {},
   "outputs": [],
   "source": [
    "# pip install pymongo \n",
    "# pip install python-dotenv\n",
    "from pymongo import MongoClient\n",
    "# the connection string has credentials so cannot be pushed to github, its kept locally on an environment variable on the .env file\n",
    "import os\n",
    "from dotenv import load_dotenv\n",
    "load_dotenv()\n",
    "# if this is not pushed to github you can just paste the connection string i sent you here:\n",
    "# otherwise create a file named .env that contains this MONGO_CONNECTION_STRING=mongodb+srv://........mongodb.net with the string i sent you instead of the dots\n",
    "\n",
    "connection_string = os.environ[\"MONGO_CONNECTION_STRING\"]\n",
    "client = MongoClient(connection_string)\n",
    "\n",
    "dragonfly_database = client[\"dragonfly\"]\n",
    "telegram_database = client[\"telegram\"]\n",
    "\n"
   ]
  },
  {
   "cell_type": "code",
   "execution_count": 8,
   "id": "4d4915b5",
   "metadata": {},
   "outputs": [
    {
     "name": "stdout",
     "output_type": "stream",
     "text": [
      "Collections in dragonfly db:\n",
      "['entities', 'events', 'scraping_reddit']\n",
      "\n",
      "The events collection has: 11 documents, the first one is:\n",
      "{'_id': ObjectId('62101e9a7d3722b1d749dde9'), 'event': {'entity': 'DOT', 'type': 'opinion', 'origin': 'reddit', 'value': 'neutral'}, 'timestamp': datetime.datetime(2022, 2, 18, 22, 29, 56), 'metadata': {'scraping_id': '62101e83aa5e8c0ab00950ea', 'chunk_id': '62101e9af2eafd89306bb540', 'text': 'The biggest red flag as such for me is the fact that the projects on Cosmos don’t need ATOM or  Cosmos to survive/exsist, unlike on DOT.', 'services': {'request': {'type': 'subreddit', 'post_limit': 200}, 'scraper': {'text': {'timestamp': 1645223396.0, 'comment_id': 'hxi7pwi', 'post_id': 'svu48s'}, 'version': 'praw-mongo_0'}, 'ner': {'version': 'naivekw_0'}, 'sa': {'version': 'distilroberta-finsa_0', 'model': 'models/distilroberta-finetuned-financial-news-sentiment-analysis'}}}, 'results': {'ner': {'DOT': {'span': [132, 135], 'match': 'DOT', 'domain': 'crypto'}, 'ATOM': {'span': [87, 91], 'match': 'ATOM', 'domain': 'crypto'}}, 'sa': {'label': 'neutral', 'score': 0.9998539686203003}}}\n"
     ]
    }
   ],
   "source": [
    "# in a mongo database collections (tables on traditional SQL) contain documents, which are basically dictionaries\n",
    "# get all collections in a database\n",
    "print(\"Collections in dragonfly db:\")\n",
    "print(dragonfly_database.list_collection_names(),end=\"\\n\\n\")\n",
    "# get all documents in a collection, the documents are not returned at once, rather you have to iterate through them\n",
    "all_events = []\n",
    "for event in dragonfly_database[\"events\"].find():\n",
    "    all_events.append(event)\n",
    "\n",
    "print(\"The events collection has: \" + str(len(all_events)) + \" documents, the first one is:\")\n",
    "print(all_events[0])"
   ]
  },
  {
   "cell_type": "code",
   "execution_count": 9,
   "id": "8c9a4b9b",
   "metadata": {},
   "outputs": [
    {
     "data": {
      "text/plain": [
       "{'_id': ObjectId('6206be239e5bd118e0ce5199'),\n",
       " 'entity': 'BTC',\n",
       " 'synonims': ['Bitcoin', 'BTC'],\n",
       " 'domain': 'crypto'}"
      ]
     },
     "execution_count": 9,
     "metadata": {},
     "output_type": "execute_result"
    }
   ],
   "source": [
    "# to make a query, for example get the bitcoin entity on the entities collection\n",
    "dragonfly_database[\"entities\"].find_one({\"entity\":\"BTC\"})"
   ]
  },
  {
   "cell_type": "code",
   "execution_count": 17,
   "id": "bd1e2642",
   "metadata": {},
   "outputs": [
    {
     "data": {
      "text/plain": [
       "[{'_id': 'MANA', 'count': 1},\n",
       " {'_id': 'ID', 'count': 2},\n",
       " {'_id': 'TIME', 'count': 1},\n",
       " {'_id': 'ETH', 'count': 1},\n",
       " {'_id': 'CRO', 'count': 2},\n",
       " {'_id': 'BTC', 'count': 70},\n",
       " {'_id': 'SOL', 'count': 1},\n",
       " {'_id': 'DOT', 'count': 1},\n",
       " {'_id': 'FTM', 'count': 1},\n",
       " {'_id': 'ATOM', 'count': 2},\n",
       " {'_id': 'QQQ', 'count': 1},\n",
       " {'_id': 'BNB', 'count': 1},\n",
       " {'_id': 'WING', 'count': 1},\n",
       " {'_id': 'NFT', 'count': 3},\n",
       " {'_id': 'MCO', 'count': 1}]"
      ]
     },
     "execution_count": 17,
     "metadata": {},
     "output_type": "execute_result"
    }
   ],
   "source": [
    "# a more complex query, aggregating the amount of events that are registered each day for each crypto\n",
    "# if you don\"t want to use an iterator to see the reuslts, use list() instead\n",
    "list(dragonfly_database.events.aggregate([\n",
    "        {\"$match\": {\"event.type\": \"opinion\"}},\n",
    "        {\n",
    "            \"$group\": {\n",
    "                \"_id\": \"$event.entity\", \"count\": {\"$sum\": 1}\n",
    "            }\n",
    "        }]))"
   ]
  },
  {
   "cell_type": "code",
   "execution_count": 16,
   "id": "a8003365",
   "metadata": {},
   "outputs": [
    {
     "data": {
      "text/plain": [
       "[{'_id': ObjectId('621023f308d56e8903fcca9f'),\n",
       "  'test_key': 'test_value',\n",
       "  'test_list': [1, 2, 3],\n",
       "  'test_object': {'hello': 'world', 'a': ['b', 'c', 'd']}}]"
      ]
     },
     "execution_count": 16,
     "metadata": {},
     "output_type": "execute_result"
    }
   ],
   "source": [
    "# insert one element to a \"test\" collection on telegram_bot database, it is not needed to \"initialize\" the collection\n",
    "telegram_database[\"test\"].insert_one({\n",
    "    \"test_key\":\"test_value\",\n",
    "    \"test_list\":[1,2,3],\n",
    "    \"test_object\":{\n",
    "        \"hello\":\"world\",\n",
    "        \"a\":[\"b\",\"c\",\"d\"]\n",
    "    }\n",
    "})\n",
    "# let\"s check\n",
    "list(telegram_database[\"test\"].find())"
   ]
  },
  {
   "cell_type": "code",
   "execution_count": null,
   "id": "e0019823",
   "metadata": {},
   "outputs": [],
   "source": [
    "# note the ObjectId that appears, to filter by this internal id (gets generated randomly with inserts), you need to use this import\n",
    "from bson.objectid import ObjectId\n",
    "telegram_database[\"test\"].find_one(ObjectId(\"paste here the numbers that appeared after _id on last block (they are autogenerated each time)\"))"
   ]
  },
  {
   "cell_type": "code",
   "execution_count": 15,
   "id": "73f7b2e6",
   "metadata": {},
   "outputs": [
    {
     "data": {
      "text/plain": [
       "<pymongo.results.DeleteResult at 0x7f8f3045f980>"
      ]
     },
     "execution_count": 15,
     "metadata": {},
     "output_type": "execute_result"
    }
   ],
   "source": [
    "# delete everything in a collection\n",
    "telegram_database[\"test\"].delete_many({})"
   ]
  }
 ],
 "metadata": {
  "kernelspec": {
   "display_name": "Python 3 (ipykernel)",
   "language": "python",
   "name": "python3"
  },
  "language_info": {
   "codemirror_mode": {
    "name": "ipython",
    "version": 3
   },
   "file_extension": ".py",
   "mimetype": "text/x-python",
   "name": "python",
   "nbconvert_exporter": "python",
   "pygments_lexer": "ipython3",
   "version": "3.9.7"
  }
 },
 "nbformat": 4,
 "nbformat_minor": 5
}
